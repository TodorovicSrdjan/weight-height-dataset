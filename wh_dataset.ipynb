{
 "cells": [
  {
   "cell_type": "code",
   "execution_count": 1,
   "metadata": {},
   "outputs": [],
   "source": [
    "import pandas as pd\n",
    "import numpy as np\n",
    "import matplotlib.pyplot as plt\n",
    "import seaborn as sns\n",
    "\n",
    "from sklearn.model_selection import train_test_split\n",
    "from sklearn.tree import DecisionTreeRegressor\n",
    "from xgboost import XGBRegressor\n",
    "from lightgbm import LGBMRegressor\n",
    "from catboost import CatBoostRegressor\n",
    "from sklearn import metrics\n",
    "from sklearn.metrics import mean_absolute_error\n",
    "\n",
    "from warnings import filterwarnings\n",
    "filterwarnings(\"ignore\")"
   ]
  },
  {
   "cell_type": "code",
   "execution_count": 2,
   "metadata": {},
   "outputs": [],
   "source": [
    "df = pd.read_csv('weight-height.csv')"
   ]
  },
  {
   "cell_type": "code",
   "execution_count": 3,
   "metadata": {},
   "outputs": [
    {
     "data": {
      "text/html": [
       "<div>\n",
       "<style scoped>\n",
       "    .dataframe tbody tr th:only-of-type {\n",
       "        vertical-align: middle;\n",
       "    }\n",
       "\n",
       "    .dataframe tbody tr th {\n",
       "        vertical-align: top;\n",
       "    }\n",
       "\n",
       "    .dataframe thead th {\n",
       "        text-align: right;\n",
       "    }\n",
       "</style>\n",
       "<table border=\"1\" class=\"dataframe\">\n",
       "  <thead>\n",
       "    <tr style=\"text-align: right;\">\n",
       "      <th></th>\n",
       "      <th>Gender</th>\n",
       "      <th>Height</th>\n",
       "      <th>Weight</th>\n",
       "    </tr>\n",
       "  </thead>\n",
       "  <tbody>\n",
       "    <tr>\n",
       "      <th>0</th>\n",
       "      <td>Male</td>\n",
       "      <td>73.847017</td>\n",
       "      <td>241.893563</td>\n",
       "    </tr>\n",
       "    <tr>\n",
       "      <th>1</th>\n",
       "      <td>Male</td>\n",
       "      <td>68.781904</td>\n",
       "      <td>162.310473</td>\n",
       "    </tr>\n",
       "    <tr>\n",
       "      <th>2</th>\n",
       "      <td>Male</td>\n",
       "      <td>74.110105</td>\n",
       "      <td>212.740856</td>\n",
       "    </tr>\n",
       "  </tbody>\n",
       "</table>\n",
       "</div>"
      ],
      "text/plain": [
       "  Gender     Height      Weight\n",
       "0   Male  73.847017  241.893563\n",
       "1   Male  68.781904  162.310473\n",
       "2   Male  74.110105  212.740856"
      ]
     },
     "execution_count": 3,
     "metadata": {},
     "output_type": "execute_result"
    }
   ],
   "source": [
    "df.head(3)"
   ]
  },
  {
   "cell_type": "code",
   "execution_count": 4,
   "metadata": {},
   "outputs": [
    {
     "data": {
      "text/html": [
       "<div>\n",
       "<style scoped>\n",
       "    .dataframe tbody tr th:only-of-type {\n",
       "        vertical-align: middle;\n",
       "    }\n",
       "\n",
       "    .dataframe tbody tr th {\n",
       "        vertical-align: top;\n",
       "    }\n",
       "\n",
       "    .dataframe thead th {\n",
       "        text-align: right;\n",
       "    }\n",
       "</style>\n",
       "<table border=\"1\" class=\"dataframe\">\n",
       "  <thead>\n",
       "    <tr style=\"text-align: right;\">\n",
       "      <th></th>\n",
       "      <th>Gender</th>\n",
       "      <th>Height</th>\n",
       "      <th>Weight</th>\n",
       "    </tr>\n",
       "  </thead>\n",
       "  <tbody>\n",
       "    <tr>\n",
       "      <th>9997</th>\n",
       "      <td>Female</td>\n",
       "      <td>63.867992</td>\n",
       "      <td>128.475319</td>\n",
       "    </tr>\n",
       "    <tr>\n",
       "      <th>9998</th>\n",
       "      <td>Female</td>\n",
       "      <td>69.034243</td>\n",
       "      <td>163.852461</td>\n",
       "    </tr>\n",
       "    <tr>\n",
       "      <th>9999</th>\n",
       "      <td>Female</td>\n",
       "      <td>61.944246</td>\n",
       "      <td>113.649103</td>\n",
       "    </tr>\n",
       "  </tbody>\n",
       "</table>\n",
       "</div>"
      ],
      "text/plain": [
       "      Gender     Height      Weight\n",
       "9997  Female  63.867992  128.475319\n",
       "9998  Female  69.034243  163.852461\n",
       "9999  Female  61.944246  113.649103"
      ]
     },
     "execution_count": 4,
     "metadata": {},
     "output_type": "execute_result"
    }
   ],
   "source": [
    "df.tail(3)"
   ]
  },
  {
   "cell_type": "code",
   "execution_count": 5,
   "metadata": {},
   "outputs": [
    {
     "data": {
      "text/plain": [
       "(10000, 3)"
      ]
     },
     "execution_count": 5,
     "metadata": {},
     "output_type": "execute_result"
    }
   ],
   "source": [
    "df.shape"
   ]
  },
  {
   "cell_type": "code",
   "execution_count": 6,
   "metadata": {},
   "outputs": [
    {
     "name": "stdout",
     "output_type": "stream",
     "text": [
      "<class 'pandas.core.frame.DataFrame'>\n",
      "RangeIndex: 10000 entries, 0 to 9999\n",
      "Data columns (total 3 columns):\n",
      " #   Column  Non-Null Count  Dtype  \n",
      "---  ------  --------------  -----  \n",
      " 0   Gender  10000 non-null  object \n",
      " 1   Height  10000 non-null  float64\n",
      " 2   Weight  10000 non-null  float64\n",
      "dtypes: float64(2), object(1)\n",
      "memory usage: 234.5+ KB\n"
     ]
    }
   ],
   "source": [
    "df.info()"
   ]
  },
  {
   "cell_type": "code",
   "execution_count": 7,
   "metadata": {},
   "outputs": [
    {
     "data": {
      "text/plain": [
       "Gender    False\n",
       "Height    False\n",
       "Weight    False\n",
       "dtype: bool"
      ]
     },
     "execution_count": 7,
     "metadata": {},
     "output_type": "execute_result"
    }
   ],
   "source": [
    "df.isna().any()"
   ]
  },
  {
   "cell_type": "code",
   "execution_count": 8,
   "metadata": {},
   "outputs": [
    {
     "data": {
      "text/plain": [
       "Gender    0\n",
       "Height    0\n",
       "Weight    0\n",
       "dtype: int64"
      ]
     },
     "execution_count": 8,
     "metadata": {},
     "output_type": "execute_result"
    }
   ],
   "source": [
    "df.isnull().sum()"
   ]
  },
  {
   "cell_type": "code",
   "execution_count": 9,
   "metadata": {},
   "outputs": [
    {
     "data": {
      "text/plain": [
       "False"
      ]
     },
     "execution_count": 9,
     "metadata": {},
     "output_type": "execute_result"
    }
   ],
   "source": [
    "df.duplicated().any()"
   ]
  },
  {
   "cell_type": "code",
   "execution_count": 10,
   "metadata": {},
   "outputs": [
    {
     "data": {
      "text/plain": [
       "Male      5000\n",
       "Female    5000\n",
       "Name: Gender, dtype: int64"
      ]
     },
     "execution_count": 10,
     "metadata": {},
     "output_type": "execute_result"
    }
   ],
   "source": [
    "df['Gender'].value_counts()"
   ]
  },
  {
   "cell_type": "markdown",
   "metadata": {},
   "source": [
    "## Data Visualization"
   ]
  },
  {
   "cell_type": "code",
   "execution_count": 11,
   "metadata": {},
   "outputs": [
    {
     "data": {
      "text/plain": [
       "<seaborn.axisgrid.FacetGrid at 0x1deb33c15c8>"
      ]
     },
     "execution_count": 11,
     "metadata": {},
     "output_type": "execute_result"
    },
    {
     "data": {
      "image/png": "[encoded data removed]",
      "text/plain": [
       "<Figure size 396x180 with 1 Axes>"
      ]
     },
     "metadata": {
      "needs_background": "light"
     },
     "output_type": "display_data"
    }
   ],
   "source": [
    "sns.catplot(y='Gender', kind='count', data=df, height=2.5, aspect=2.2, palette = 'deep')"
   ]
  },
  {
   "cell_type": "code",
   "execution_count": 12,
   "metadata": {},
   "outputs": [
    {
     "data": {
      "text/plain": [
       "<AxesSubplot:xlabel='Height', ylabel='Density'>"
      ]
     },
     "execution_count": 12,
     "metadata": {},
     "output_type": "execute_result"
    },
    {
     "data": {
      "image/png": "[encoded data removed]",
      "text/plain": [
       "<Figure size 432x288 with 1 Axes>"
      ]
     },
     "metadata": {
      "needs_background": "light"
     },
     "output_type": "display_data"
    }
   ],
   "source": [
    "sns.distplot(df['Height'])"
   ]
  },
  {
   "cell_type": "code",
   "execution_count": 13,
   "metadata": {},
   "outputs": [
    {
     "data": {
      "text/plain": [
       "<AxesSubplot:xlabel='Weight', ylabel='Density'>"
      ]
     },
     "execution_count": 13,
     "metadata": {},
     "output_type": "execute_result"
    },
    {
     "data": {
      "image/png": "[encoded data removed]",
      "text/plain": [
       "<Figure size 432x288 with 1 Axes>"
      ]
     },
     "metadata": {
      "needs_background": "light"
     },
     "output_type": "display_data"
    }
   ],
   "source": [
    "sns.distplot(df['Weight'])"
   ]
  },
  {
   "cell_type": "markdown",
   "metadata": {},
   "source": [
    "- Replace Male = 0 \n",
    "- Replace Female = 1\n",
    "- The Label is Gender"
   ]
  },
  {
   "cell_type": "code",
   "execution_count": 14,
   "metadata": {},
   "outputs": [],
   "source": [
    "df['Gender'] = df['Gender'].replace('Male', 0)\n",
    "df['Gender'] = df['Gender'].replace('Female', 1)"
   ]
  },
  {
   "cell_type": "code",
   "execution_count": 15,
   "metadata": {},
   "outputs": [
    {
     "data": {
      "text/html": [
       "<style  type=\"text/css\" >\n",
       "    #T_5edfe06e_61d4_11eb_93f7_0068ebe919d5row0_col0 {\n",
       "            background-color:  #b40426;\n",
       "            color:  #f1f1f1;\n",
       "        }    #T_5edfe06e_61d4_11eb_93f7_0068ebe919d5row0_col1 {\n",
       "            background-color:  #3b4cc0;\n",
       "            color:  #f1f1f1;\n",
       "        }    #T_5edfe06e_61d4_11eb_93f7_0068ebe919d5row0_col2 {\n",
       "            background-color:  #3b4cc0;\n",
       "            color:  #f1f1f1;\n",
       "        }    #T_5edfe06e_61d4_11eb_93f7_0068ebe919d5row1_col0 {\n",
       "            background-color:  #4c66d6;\n",
       "            color:  #000000;\n",
       "        }    #T_5edfe06e_61d4_11eb_93f7_0068ebe919d5row1_col1 {\n",
       "            background-color:  #b40426;\n",
       "            color:  #f1f1f1;\n",
       "        }    #T_5edfe06e_61d4_11eb_93f7_0068ebe919d5row1_col2 {\n",
       "            background-color:  #c32e31;\n",
       "            color:  #f1f1f1;\n",
       "        }    #T_5edfe06e_61d4_11eb_93f7_0068ebe919d5row2_col0 {\n",
       "            background-color:  #3b4cc0;\n",
       "            color:  #f1f1f1;\n",
       "        }    #T_5edfe06e_61d4_11eb_93f7_0068ebe919d5row2_col1 {\n",
       "            background-color:  #c43032;\n",
       "            color:  #f1f1f1;\n",
       "        }    #T_5edfe06e_61d4_11eb_93f7_0068ebe919d5row2_col2 {\n",
       "            background-color:  #b40426;\n",
       "            color:  #f1f1f1;\n",
       "        }</style><table id=\"T_5edfe06e_61d4_11eb_93f7_0068ebe919d5\" ><thead>    <tr>        <th class=\"blank level0\" ></th>        <th class=\"col_heading level0 col0\" >Gender</th>        <th class=\"col_heading level0 col1\" >Height</th>        <th class=\"col_heading level0 col2\" >Weight</th>    </tr></thead><tbody>\n",
       "                <tr>\n",
       "                        <th id=\"T_5edfe06e_61d4_11eb_93f7_0068ebe919d5level0_row0\" class=\"row_heading level0 row0\" >Gender</th>\n",
       "                        <td id=\"T_5edfe06e_61d4_11eb_93f7_0068ebe919d5row0_col0\" class=\"data row0 col0\" >1.000000</td>\n",
       "                        <td id=\"T_5edfe06e_61d4_11eb_93f7_0068ebe919d5row0_col1\" class=\"data row0 col1\" >-0.691072</td>\n",
       "                        <td id=\"T_5edfe06e_61d4_11eb_93f7_0068ebe919d5row0_col2\" class=\"data row0 col2\" >-0.796723</td>\n",
       "            </tr>\n",
       "            <tr>\n",
       "                        <th id=\"T_5edfe06e_61d4_11eb_93f7_0068ebe919d5level0_row1\" class=\"row_heading level0 row1\" >Height</th>\n",
       "                        <td id=\"T_5edfe06e_61d4_11eb_93f7_0068ebe919d5row1_col0\" class=\"data row1 col0\" >-0.691072</td>\n",
       "                        <td id=\"T_5edfe06e_61d4_11eb_93f7_0068ebe919d5row1_col1\" class=\"data row1 col1\" >1.000000</td>\n",
       "                        <td id=\"T_5edfe06e_61d4_11eb_93f7_0068ebe919d5row1_col2\" class=\"data row1 col2\" >0.924756</td>\n",
       "            </tr>\n",
       "            <tr>\n",
       "                        <th id=\"T_5edfe06e_61d4_11eb_93f7_0068ebe919d5level0_row2\" class=\"row_heading level0 row2\" >Weight</th>\n",
       "                        <td id=\"T_5edfe06e_61d4_11eb_93f7_0068ebe919d5row2_col0\" class=\"data row2 col0\" >-0.796723</td>\n",
       "                        <td id=\"T_5edfe06e_61d4_11eb_93f7_0068ebe919d5row2_col1\" class=\"data row2 col1\" >0.924756</td>\n",
       "                        <td id=\"T_5edfe06e_61d4_11eb_93f7_0068ebe919d5row2_col2\" class=\"data row2 col2\" >1.000000</td>\n",
       "            </tr>\n",
       "    </tbody></table>"
      ],
      "text/plain": [
       "<pandas.io.formats.style.Styler at 0x1deb3dbb1c8>"
      ]
     },
     "execution_count": 15,
     "metadata": {},
     "output_type": "execute_result"
    }
   ],
   "source": [
    "corr = df.corr()\n",
    "corr.style.background_gradient(cmap='coolwarm')"
   ]
  },
  {
   "cell_type": "code",
   "execution_count": 16,
   "metadata": {},
   "outputs": [
    {
     "data": {
      "image/png": "[encoded data removed]",
      "text/plain": [
       "<Figure size 432x288 with 1 Axes>"
      ]
     },
     "metadata": {
      "needs_background": "light"
     },
     "output_type": "display_data"
    }
   ],
   "source": [
    "#Plot Height vs Weight\n",
    "height = df.iloc[:, 1].values\n",
    "weight = df.iloc[:, 2].values\n",
    "plt.scatter(height,weight,label='Height',color='Purple',s=30)\n",
    "plt.xlabel('Height')\n",
    "plt.ylabel('Weight')\n",
    "plt.title('Height vs Weight')\n",
    "plt.legend(loc=\"lower right\")\n",
    "plt.show()"
   ]
  },
  {
   "cell_type": "markdown",
   "metadata": {},
   "source": [
    "because it's all is numeric we can direct to split train test dataset"
   ]
  },
  {
   "cell_type": "markdown",
   "metadata": {},
   "source": [
    "## Train Test Dataset"
   ]
  },
  {
   "cell_type": "code",
   "execution_count": 17,
   "metadata": {},
   "outputs": [],
   "source": [
    "X = df.drop(['Gender'],axis=1)\n",
    "y = df['Gender']"
   ]
  },
  {
   "cell_type": "code",
   "execution_count": 18,
   "metadata": {},
   "outputs": [],
   "source": [
    "X_train,X_test, y_train,y_test = train_test_split(X, y, test_size = 0.3, random_state = 142)"
   ]
  },
  {
   "cell_type": "code",
   "execution_count": 19,
   "metadata": {},
   "outputs": [
    {
     "data": {
      "text/plain": [
       "(7000, 2)"
      ]
     },
     "execution_count": 19,
     "metadata": {},
     "output_type": "execute_result"
    }
   ],
   "source": [
    "X_train.shape"
   ]
  },
  {
   "cell_type": "code",
   "execution_count": 20,
   "metadata": {},
   "outputs": [
    {
     "data": {
      "text/plain": [
       "(7000,)"
      ]
     },
     "execution_count": 20,
     "metadata": {},
     "output_type": "execute_result"
    }
   ],
   "source": [
    "y_train.shape"
   ]
  },
  {
   "cell_type": "markdown",
   "metadata": {},
   "source": [
    "## Modelling Time"
   ]
  },
  {
   "cell_type": "markdown",
   "metadata": {},
   "source": [
    "### Linear Regression"
   ]
  },
  {
   "cell_type": "code",
   "execution_count": 21,
   "metadata": {},
   "outputs": [
    {
     "name": "stdout",
     "output_type": "stream",
     "text": [
      "[0.09483136 0.78996352 1.0034719  ... 0.1106678  0.77212086 0.42999506]\n"
     ]
    }
   ],
   "source": [
    "from sklearn.linear_model import LinearRegression\n",
    "lr = LinearRegression()\n",
    "lr.fit(X_train,y_train)\n",
    "\n",
    "#predicting\n",
    "y_pred = lr.predict(X_test)\n",
    "print(y_pred)"
   ]
  },
  {
   "cell_type": "code",
   "execution_count": 22,
   "metadata": {},
   "outputs": [
    {
     "name": "stdout",
     "output_type": "stream",
     "text": [
      "Coefficients:  [ 0.04163266 -0.01701346]\n",
      "Mean squared error: 0.09\n",
      "Variance score: 0.65\n"
     ]
    }
   ],
   "source": [
    "# Predicting the Test set results\n",
    "y_pred = lr.predict(X_test)\n",
    "print('Coefficients: ', lr.coef_)\n",
    "# The mean squared error\n",
    "print(\"Mean squared error: %.2f\" % np.mean((lr.predict(X_test) - y_test) ** 2))\n",
    "# Explained variance score: 1 is perfect prediction\n",
    "print('Variance score: %.2f' % lr.score(X_test, y_test))"
   ]
  },
  {
   "cell_type": "markdown",
   "metadata": {},
   "source": [
    "### decision tree "
   ]
  },
  {
   "cell_type": "code",
   "execution_count": 23,
   "metadata": {},
   "outputs": [
    {
     "name": "stdout",
     "output_type": "stream",
     "text": [
      "[0. 1. 1. ... 0. 1. 0.]\n"
     ]
    }
   ],
   "source": [
    "#decision tree \n",
    "dt = DecisionTreeRegressor()\n",
    "dt.fit(X_train,y_train)\n",
    "\n",
    "#predicting\n",
    "y_pred1 = dt.predict(X_test)\n",
    "print(y_pred1)"
   ]
  },
  {
   "cell_type": "code",
   "execution_count": 24,
   "metadata": {},
   "outputs": [
    {
     "name": "stdout",
     "output_type": "stream",
     "text": [
      "Mean squared error: 0.12\n",
      "Variance score: 0.50\n"
     ]
    }
   ],
   "source": [
    "# Predicting the Test set results\n",
    "y_pred = lr.predict(X_test)\n",
    "# The mean squared error\n",
    "print(\"Mean squared error: %.2f\" % np.mean((dt.predict(X_test) - y_test) ** 2))\n",
    "# Explained variance score: 1 is perfect prediction\n",
    "print('Variance score: %.2f' % dt.score(X_test, y_test))"
   ]
  },
  {
   "cell_type": "markdown",
   "metadata": {},
   "source": [
    "### XGBRegressor"
   ]
  },
  {
   "cell_type": "code",
   "execution_count": 25,
   "metadata": {},
   "outputs": [
    {
     "name": "stdout",
     "output_type": "stream",
     "text": [
      "[-3.2168031e-03  3.8459706e-01  1.0034124e+00 ...  8.6650252e-04\n",
      "  9.9112546e-01  9.0421557e-02]\n"
     ]
    }
   ],
   "source": [
    "xgb = XGBRegressor()\n",
    "xgb.fit(X_test,y_test)\n",
    "\n",
    "predict2 = xgb.predict(X_test)\n",
    "print(predict2)"
   ]
  },
  {
   "cell_type": "code",
   "execution_count": 26,
   "metadata": {},
   "outputs": [
    {
     "name": "stdout",
     "output_type": "stream",
     "text": [
      "Mean squared error: 0.01\n",
      "Variance score: 0.97\n"
     ]
    }
   ],
   "source": [
    "# Predicting the Test set results\n",
    "y_pred2 = xgb.predict(X_test)\n",
    "# The mean squared error\n",
    "print(\"Mean squared error: %.2f\" % np.mean((xgb.predict(X_test) - y_test) ** 2))\n",
    "# Explained variance score: 1 is perfect prediction\n",
    "print('Variance score: %.2f' % xgb.score(X_test, y_test))"
   ]
  },
  {
   "cell_type": "markdown",
   "metadata": {},
   "source": [
    "### Catboost Regressor"
   ]
  },
  {
   "cell_type": "code",
   "execution_count": 27,
   "metadata": {},
   "outputs": [
    {
     "name": "stdout",
     "output_type": "stream",
     "text": [
      "Learning rate set to 0.04746\n",
      "0:\tlearn: 0.4829428\ttotal: 302ms\tremaining: 5m 1s\n",
      "1:\tlearn: 0.4668663\ttotal: 310ms\tremaining: 2m 34s\n",
      "2:\tlearn: 0.4525265\ttotal: 321ms\tremaining: 1m 46s\n",
      "3:\tlearn: 0.4382745\ttotal: 327ms\tremaining: 1m 21s\n",
      "4:\tlearn: 0.4248918\ttotal: 330ms\tremaining: 1m 5s\n",
      "5:\tlearn: 0.4125177\ttotal: 338ms\tremaining: 55.9s\n",
      "6:\tlearn: 0.4005184\ttotal: 349ms\tremaining: 49.5s\n",
      "7:\tlearn: 0.3895608\ttotal: 353ms\tremaining: 43.7s\n",
      "8:\tlearn: 0.3793716\ttotal: 356ms\tremaining: 39.3s\n",
      "9:\tlearn: 0.3697068\ttotal: 362ms\tremaining: 35.9s\n",
      "10:\tlearn: 0.3608328\ttotal: 367ms\tremaining: 33s\n",
      "11:\tlearn: 0.3522808\ttotal: 370ms\tremaining: 30.5s\n",
      "12:\tlearn: 0.3445005\ttotal: 373ms\tremaining: 28.3s\n",
      "13:\tlearn: 0.3373496\ttotal: 376ms\tremaining: 26.5s\n",
      "14:\tlearn: 0.3302424\ttotal: 391ms\tremaining: 25.7s\n",
      "15:\tlearn: 0.3238105\ttotal: 394ms\tremaining: 24.2s\n",
      "16:\tlearn: 0.3179751\ttotal: 398ms\tremaining: 23s\n",
      "17:\tlearn: 0.3123594\ttotal: 400ms\tremaining: 21.8s\n",
      "18:\tlearn: 0.3072973\ttotal: 404ms\tremaining: 20.9s\n",
      "19:\tlearn: 0.3026700\ttotal: 408ms\tremaining: 20s\n",
      "20:\tlearn: 0.2982422\ttotal: 413ms\tremaining: 19.2s\n",
      "21:\tlearn: 0.2942603\ttotal: 418ms\tremaining: 18.6s\n",
      "22:\tlearn: 0.2907521\ttotal: 438ms\tremaining: 18.6s\n",
      "23:\tlearn: 0.2871088\ttotal: 449ms\tremaining: 18.3s\n",
      "24:\tlearn: 0.2839060\ttotal: 453ms\tremaining: 17.7s\n",
      "25:\tlearn: 0.2808439\ttotal: 457ms\tremaining: 17.1s\n",
      "26:\tlearn: 0.2780210\ttotal: 464ms\tremaining: 16.7s\n",
      "27:\tlearn: 0.2756376\ttotal: 468ms\tremaining: 16.2s\n",
      "28:\tlearn: 0.2733345\ttotal: 471ms\tremaining: 15.8s\n",
      "29:\tlearn: 0.2712970\ttotal: 496ms\tremaining: 16s\n",
      "30:\tlearn: 0.2693087\ttotal: 501ms\tremaining: 15.7s\n",
      "31:\tlearn: 0.2674097\ttotal: 508ms\tremaining: 15.4s\n",
      "32:\tlearn: 0.2657443\ttotal: 515ms\tremaining: 15.1s\n",
      "33:\tlearn: 0.2642137\ttotal: 520ms\tremaining: 14.8s\n",
      "34:\tlearn: 0.2627152\ttotal: 529ms\tremaining: 14.6s\n",
      "35:\tlearn: 0.2614180\ttotal: 533ms\tremaining: 14.3s\n",
      "36:\tlearn: 0.2602031\ttotal: 555ms\tremaining: 14.5s\n",
      "37:\tlearn: 0.2591166\ttotal: 577ms\tremaining: 14.6s\n",
      "38:\tlearn: 0.2580202\ttotal: 624ms\tremaining: 15.4s\n",
      "39:\tlearn: 0.2569223\ttotal: 641ms\tremaining: 15.4s\n",
      "40:\tlearn: 0.2559709\ttotal: 647ms\tremaining: 15.1s\n",
      "41:\tlearn: 0.2552634\ttotal: 658ms\tremaining: 15s\n",
      "42:\tlearn: 0.2545395\ttotal: 663ms\tremaining: 14.8s\n",
      "43:\tlearn: 0.2537822\ttotal: 714ms\tremaining: 15.5s\n",
      "44:\tlearn: 0.2531835\ttotal: 721ms\tremaining: 15.3s\n",
      "45:\tlearn: 0.2525681\ttotal: 735ms\tremaining: 15.2s\n",
      "46:\tlearn: 0.2518905\ttotal: 738ms\tremaining: 15s\n",
      "47:\tlearn: 0.2513459\ttotal: 744ms\tremaining: 14.8s\n",
      "48:\tlearn: 0.2508291\ttotal: 747ms\tremaining: 14.5s\n",
      "49:\tlearn: 0.2503731\ttotal: 750ms\tremaining: 14.2s\n",
      "50:\tlearn: 0.2499271\ttotal: 753ms\tremaining: 14s\n",
      "51:\tlearn: 0.2495362\ttotal: 765ms\tremaining: 14s\n",
      "52:\tlearn: 0.2491788\ttotal: 780ms\tremaining: 13.9s\n",
      "53:\tlearn: 0.2488750\ttotal: 784ms\tremaining: 13.7s\n",
      "54:\tlearn: 0.2485903\ttotal: 796ms\tremaining: 13.7s\n",
      "55:\tlearn: 0.2483425\ttotal: 814ms\tremaining: 13.7s\n",
      "56:\tlearn: 0.2480775\ttotal: 825ms\tremaining: 13.6s\n",
      "57:\tlearn: 0.2478501\ttotal: 830ms\tremaining: 13.5s\n",
      "58:\tlearn: 0.2476202\ttotal: 843ms\tremaining: 13.4s\n",
      "59:\tlearn: 0.2473715\ttotal: 858ms\tremaining: 13.4s\n",
      "60:\tlearn: 0.2471540\ttotal: 860ms\tremaining: 13.2s\n",
      "61:\tlearn: 0.2469588\ttotal: 867ms\tremaining: 13.1s\n",
      "62:\tlearn: 0.2467762\ttotal: 870ms\tremaining: 12.9s\n",
      "63:\tlearn: 0.2464985\ttotal: 881ms\tremaining: 12.9s\n",
      "64:\tlearn: 0.2463365\ttotal: 886ms\tremaining: 12.7s\n",
      "65:\tlearn: 0.2461940\ttotal: 901ms\tremaining: 12.7s\n",
      "66:\tlearn: 0.2460821\ttotal: 905ms\tremaining: 12.6s\n",
      "67:\tlearn: 0.2459541\ttotal: 913ms\tremaining: 12.5s\n",
      "68:\tlearn: 0.2458211\ttotal: 916ms\tremaining: 12.4s\n",
      "69:\tlearn: 0.2456749\ttotal: 927ms\tremaining: 12.3s\n",
      "70:\tlearn: 0.2455146\ttotal: 929ms\tremaining: 12.2s\n",
      "71:\tlearn: 0.2453814\ttotal: 934ms\tremaining: 12s\n",
      "72:\tlearn: 0.2452271\ttotal: 941ms\tremaining: 11.9s\n",
      "73:\tlearn: 0.2451043\ttotal: 956ms\tremaining: 12s\n",
      "74:\tlearn: 0.2449829\ttotal: 959ms\tremaining: 11.8s\n",
      "75:\tlearn: 0.2448892\ttotal: 967ms\tremaining: 11.8s\n",
      "76:\tlearn: 0.2447643\ttotal: 972ms\tremaining: 11.6s\n",
      "77:\tlearn: 0.2446595\ttotal: 982ms\tremaining: 11.6s\n",
      "78:\tlearn: 0.2445863\ttotal: 986ms\tremaining: 11.5s\n",
      "79:\tlearn: 0.2445027\ttotal: 997ms\tremaining: 11.5s\n",
      "80:\tlearn: 0.2443607\ttotal: 1s\tremaining: 11.3s\n",
      "81:\tlearn: 0.2443039\ttotal: 1.01s\tremaining: 11.3s\n",
      "82:\tlearn: 0.2442345\ttotal: 1.01s\tremaining: 11.2s\n",
      "83:\tlearn: 0.2441621\ttotal: 1.02s\tremaining: 11.1s\n",
      "84:\tlearn: 0.2439919\ttotal: 1.02s\tremaining: 11s\n",
      "85:\tlearn: 0.2439130\ttotal: 1.03s\tremaining: 11s\n",
      "86:\tlearn: 0.2438362\ttotal: 1.09s\tremaining: 11.4s\n",
      "87:\tlearn: 0.2437439\ttotal: 1.1s\tremaining: 11.4s\n",
      "88:\tlearn: 0.2436379\ttotal: 1.11s\tremaining: 11.3s\n",
      "89:\tlearn: 0.2435708\ttotal: 1.11s\tremaining: 11.2s\n",
      "90:\tlearn: 0.2434859\ttotal: 1.12s\tremaining: 11.2s\n",
      "91:\tlearn: 0.2433981\ttotal: 1.13s\tremaining: 11.1s\n",
      "92:\tlearn: 0.2433611\ttotal: 1.13s\tremaining: 11s\n",
      "93:\tlearn: 0.2432355\ttotal: 1.14s\tremaining: 10.9s\n",
      "94:\tlearn: 0.2431529\ttotal: 1.14s\tremaining: 10.9s\n",
      "95:\tlearn: 0.2430721\ttotal: 1.15s\tremaining: 10.8s\n",
      "96:\tlearn: 0.2430096\ttotal: 1.16s\tremaining: 10.8s\n",
      "97:\tlearn: 0.2429975\ttotal: 1.16s\tremaining: 10.7s\n",
      "98:\tlearn: 0.2428824\ttotal: 1.16s\tremaining: 10.6s\n",
      "99:\tlearn: 0.2427466\ttotal: 1.17s\tremaining: 10.5s\n",
      "100:\tlearn: 0.2426409\ttotal: 1.17s\tremaining: 10.4s\n",
      "101:\tlearn: 0.2425743\ttotal: 1.17s\tremaining: 10.3s\n",
      "102:\tlearn: 0.2425388\ttotal: 1.19s\tremaining: 10.3s\n",
      "103:\tlearn: 0.2424845\ttotal: 1.19s\tremaining: 10.3s\n",
      "104:\tlearn: 0.2424054\ttotal: 1.2s\tremaining: 10.2s\n",
      "105:\tlearn: 0.2423577\ttotal: 1.2s\tremaining: 10.1s\n",
      "106:\tlearn: 0.2423276\ttotal: 1.21s\tremaining: 10.1s\n",
      "107:\tlearn: 0.2422718\ttotal: 1.21s\tremaining: 10s\n",
      "108:\tlearn: 0.2422031\ttotal: 1.21s\tremaining: 9.93s\n",
      "109:\tlearn: 0.2421151\ttotal: 1.22s\tremaining: 9.87s\n",
      "110:\tlearn: 0.2420426\ttotal: 1.22s\tremaining: 9.79s\n",
      "111:\tlearn: 0.2420007\ttotal: 1.23s\tremaining: 9.71s\n",
      "112:\tlearn: 0.2419656\ttotal: 1.23s\tremaining: 9.64s\n",
      "113:\tlearn: 0.2418578\ttotal: 1.24s\tremaining: 9.6s\n",
      "114:\tlearn: 0.2417974\ttotal: 1.24s\tremaining: 9.53s\n",
      "115:\tlearn: 0.2417792\ttotal: 1.24s\tremaining: 9.46s\n",
      "116:\tlearn: 0.2417590\ttotal: 1.24s\tremaining: 9.39s\n",
      "117:\tlearn: 0.2417430\ttotal: 1.25s\tremaining: 9.36s\n",
      "118:\tlearn: 0.2416301\ttotal: 1.26s\tremaining: 9.34s\n",
      "119:\tlearn: 0.2415856\ttotal: 1.33s\tremaining: 9.75s\n",
      "120:\tlearn: 0.2415513\ttotal: 1.34s\tremaining: 9.71s\n",
      "121:\tlearn: 0.2414966\ttotal: 1.35s\tremaining: 9.69s\n",
      "122:\tlearn: 0.2414562\ttotal: 1.35s\tremaining: 9.66s\n",
      "123:\tlearn: 0.2414256\ttotal: 1.36s\tremaining: 9.62s\n",
      "124:\tlearn: 0.2413882\ttotal: 1.36s\tremaining: 9.56s\n",
      "125:\tlearn: 0.2413366\ttotal: 1.37s\tremaining: 9.51s\n",
      "126:\tlearn: 0.2413138\ttotal: 1.37s\tremaining: 9.45s\n",
      "127:\tlearn: 0.2412857\ttotal: 1.38s\tremaining: 9.38s\n",
      "128:\tlearn: 0.2412072\ttotal: 1.38s\tremaining: 9.32s\n",
      "129:\tlearn: 0.2410594\ttotal: 1.39s\tremaining: 9.28s\n",
      "130:\tlearn: 0.2409763\ttotal: 1.39s\tremaining: 9.23s\n",
      "131:\tlearn: 0.2408558\ttotal: 1.39s\tremaining: 9.17s\n",
      "132:\tlearn: 0.2407892\ttotal: 1.4s\tremaining: 9.12s\n",
      "133:\tlearn: 0.2406447\ttotal: 1.4s\tremaining: 9.08s\n",
      "134:\tlearn: 0.2405954\ttotal: 1.41s\tremaining: 9.03s\n",
      "135:\tlearn: 0.2404693\ttotal: 1.41s\tremaining: 8.98s\n",
      "136:\tlearn: 0.2404338\ttotal: 1.42s\tremaining: 8.92s\n",
      "137:\tlearn: 0.2403870\ttotal: 1.42s\tremaining: 8.87s\n",
      "138:\tlearn: 0.2402310\ttotal: 1.42s\tremaining: 8.82s\n",
      "139:\tlearn: 0.2401127\ttotal: 1.43s\tremaining: 8.76s\n",
      "140:\tlearn: 0.2400905\ttotal: 1.43s\tremaining: 8.71s\n",
      "141:\tlearn: 0.2399747\ttotal: 1.43s\tremaining: 8.65s\n",
      "142:\tlearn: 0.2399133\ttotal: 1.43s\tremaining: 8.59s\n",
      "143:\tlearn: 0.2398577\ttotal: 1.44s\tremaining: 8.54s\n",
      "144:\tlearn: 0.2397965\ttotal: 1.44s\tremaining: 8.48s\n",
      "145:\tlearn: 0.2397778\ttotal: 1.44s\tremaining: 8.44s\n",
      "146:\tlearn: 0.2397444\ttotal: 1.44s\tremaining: 8.38s\n",
      "147:\tlearn: 0.2397116\ttotal: 1.45s\tremaining: 8.33s\n",
      "148:\tlearn: 0.2396670\ttotal: 1.45s\tremaining: 8.28s\n",
      "149:\tlearn: 0.2395405\ttotal: 1.45s\tremaining: 8.23s\n",
      "150:\tlearn: 0.2394830\ttotal: 1.45s\tremaining: 8.17s\n",
      "151:\tlearn: 0.2393294\ttotal: 1.46s\tremaining: 8.12s\n",
      "152:\tlearn: 0.2392599\ttotal: 1.46s\tremaining: 8.07s\n",
      "153:\tlearn: 0.2392435\ttotal: 1.46s\tremaining: 8.04s\n",
      "154:\tlearn: 0.2390893\ttotal: 1.47s\tremaining: 7.99s\n",
      "155:\tlearn: 0.2390036\ttotal: 1.47s\tremaining: 7.94s\n",
      "156:\tlearn: 0.2389877\ttotal: 1.47s\tremaining: 7.89s\n",
      "157:\tlearn: 0.2389320\ttotal: 1.47s\tremaining: 7.85s\n",
      "158:\tlearn: 0.2388625\ttotal: 1.48s\tremaining: 7.8s\n",
      "159:\tlearn: 0.2388322\ttotal: 1.48s\tremaining: 7.76s\n",
      "160:\tlearn: 0.2387632\ttotal: 1.48s\tremaining: 7.72s\n",
      "161:\tlearn: 0.2386723\ttotal: 1.48s\tremaining: 7.67s\n",
      "162:\tlearn: 0.2386552\ttotal: 1.49s\tremaining: 7.63s\n",
      "163:\tlearn: 0.2385868\ttotal: 1.49s\tremaining: 7.59s\n",
      "164:\tlearn: 0.2384631\ttotal: 1.49s\tremaining: 7.55s\n",
      "165:\tlearn: 0.2383158\ttotal: 1.49s\tremaining: 7.5s\n",
      "166:\tlearn: 0.2382567\ttotal: 1.5s\tremaining: 7.46s\n",
      "167:\tlearn: 0.2381775\ttotal: 1.5s\tremaining: 7.43s\n",
      "168:\tlearn: 0.2381442\ttotal: 1.5s\tremaining: 7.39s\n",
      "169:\tlearn: 0.2380662\ttotal: 1.5s\tremaining: 7.35s\n",
      "170:\tlearn: 0.2380472\ttotal: 1.51s\tremaining: 7.31s\n",
      "171:\tlearn: 0.2378898\ttotal: 1.51s\tremaining: 7.28s\n",
      "172:\tlearn: 0.2377542\ttotal: 1.51s\tremaining: 7.24s\n",
      "173:\tlearn: 0.2377382\ttotal: 1.51s\tremaining: 7.2s\n",
      "174:\tlearn: 0.2376075\ttotal: 1.52s\tremaining: 7.17s\n",
      "175:\tlearn: 0.2375265\ttotal: 1.52s\tremaining: 7.13s\n",
      "176:\tlearn: 0.2375122\ttotal: 1.52s\tremaining: 7.09s\n",
      "177:\tlearn: 0.2374542\ttotal: 1.53s\tremaining: 7.06s\n",
      "178:\tlearn: 0.2374039\ttotal: 1.53s\tremaining: 7.02s\n",
      "179:\tlearn: 0.2372925\ttotal: 1.53s\tremaining: 6.99s\n",
      "180:\tlearn: 0.2372672\ttotal: 1.54s\tremaining: 6.95s\n",
      "181:\tlearn: 0.2370878\ttotal: 1.54s\tremaining: 6.92s\n",
      "182:\tlearn: 0.2369716\ttotal: 1.54s\tremaining: 6.88s\n",
      "183:\tlearn: 0.2368187\ttotal: 1.54s\tremaining: 6.85s\n",
      "184:\tlearn: 0.2367563\ttotal: 1.55s\tremaining: 6.81s\n",
      "185:\tlearn: 0.2366526\ttotal: 1.55s\tremaining: 6.78s\n",
      "186:\tlearn: 0.2365235\ttotal: 1.55s\tremaining: 6.75s\n",
      "187:\tlearn: 0.2364677\ttotal: 1.55s\tremaining: 6.71s\n",
      "188:\tlearn: 0.2362583\ttotal: 1.56s\tremaining: 6.68s\n",
      "189:\tlearn: 0.2362428\ttotal: 1.56s\tremaining: 6.65s\n",
      "190:\tlearn: 0.2361218\ttotal: 1.56s\tremaining: 6.62s\n",
      "191:\tlearn: 0.2358624\ttotal: 1.57s\tremaining: 6.6s\n",
      "192:\tlearn: 0.2357716\ttotal: 1.57s\tremaining: 6.57s\n",
      "193:\tlearn: 0.2356480\ttotal: 1.57s\tremaining: 6.54s\n",
      "194:\tlearn: 0.2355464\ttotal: 1.58s\tremaining: 6.51s\n",
      "195:\tlearn: 0.2354934\ttotal: 1.58s\tremaining: 6.47s\n",
      "196:\tlearn: 0.2354421\ttotal: 1.58s\tremaining: 6.44s\n",
      "197:\tlearn: 0.2353095\ttotal: 1.58s\tremaining: 6.42s\n",
      "198:\tlearn: 0.2352545\ttotal: 1.59s\tremaining: 6.39s\n",
      "199:\tlearn: 0.2351920\ttotal: 1.59s\tremaining: 6.36s\n",
      "200:\tlearn: 0.2350683\ttotal: 1.59s\tremaining: 6.33s\n",
      "201:\tlearn: 0.2349544\ttotal: 1.59s\tremaining: 6.3s\n",
      "202:\tlearn: 0.2348248\ttotal: 1.6s\tremaining: 6.28s\n",
      "203:\tlearn: 0.2347243\ttotal: 1.6s\tremaining: 6.25s\n",
      "204:\tlearn: 0.2345632\ttotal: 1.6s\tremaining: 6.22s\n",
      "205:\tlearn: 0.2344310\ttotal: 1.61s\tremaining: 6.19s\n",
      "206:\tlearn: 0.2342773\ttotal: 1.61s\tremaining: 6.17s\n",
      "207:\tlearn: 0.2341422\ttotal: 1.61s\tremaining: 6.14s\n",
      "208:\tlearn: 0.2340758\ttotal: 1.61s\tremaining: 6.11s\n",
      "209:\tlearn: 0.2340093\ttotal: 1.62s\tremaining: 6.09s\n",
      "210:\tlearn: 0.2339192\ttotal: 1.62s\tremaining: 6.06s\n",
      "211:\tlearn: 0.2337535\ttotal: 1.62s\tremaining: 6.04s\n",
      "212:\tlearn: 0.2336998\ttotal: 1.63s\tremaining: 6.01s\n",
      "213:\tlearn: 0.2336557\ttotal: 1.63s\tremaining: 5.98s\n",
      "214:\tlearn: 0.2336417\ttotal: 1.63s\tremaining: 5.96s\n",
      "215:\tlearn: 0.2335280\ttotal: 1.64s\tremaining: 5.94s\n",
      "216:\tlearn: 0.2334248\ttotal: 1.64s\tremaining: 5.91s\n",
      "217:\tlearn: 0.2332873\ttotal: 1.64s\tremaining: 5.89s\n",
      "218:\tlearn: 0.2331559\ttotal: 1.64s\tremaining: 5.86s\n",
      "219:\tlearn: 0.2331136\ttotal: 1.65s\tremaining: 5.83s\n",
      "220:\tlearn: 0.2329036\ttotal: 1.65s\tremaining: 5.81s\n",
      "221:\tlearn: 0.2327272\ttotal: 1.65s\tremaining: 5.79s\n",
      "222:\tlearn: 0.2326381\ttotal: 1.65s\tremaining: 5.76s\n",
      "223:\tlearn: 0.2326138\ttotal: 1.66s\tremaining: 5.74s\n",
      "224:\tlearn: 0.2324599\ttotal: 1.66s\tremaining: 5.71s\n",
      "225:\tlearn: 0.2323296\ttotal: 1.66s\tremaining: 5.69s\n",
      "226:\tlearn: 0.2322879\ttotal: 1.66s\tremaining: 5.67s\n",
      "227:\tlearn: 0.2322455\ttotal: 1.67s\tremaining: 5.64s\n",
      "228:\tlearn: 0.2322061\ttotal: 1.67s\tremaining: 5.62s\n",
      "229:\tlearn: 0.2321238\ttotal: 1.67s\tremaining: 5.59s\n",
      "230:\tlearn: 0.2320254\ttotal: 1.67s\tremaining: 5.57s\n",
      "231:\tlearn: 0.2319823\ttotal: 1.68s\tremaining: 5.55s\n",
      "232:\tlearn: 0.2319091\ttotal: 1.68s\tremaining: 5.53s\n",
      "233:\tlearn: 0.2318675\ttotal: 1.68s\tremaining: 5.51s\n",
      "234:\tlearn: 0.2318277\ttotal: 1.69s\tremaining: 5.49s\n",
      "235:\tlearn: 0.2317260\ttotal: 1.69s\tremaining: 5.47s\n",
      "236:\tlearn: 0.2315850\ttotal: 1.69s\tremaining: 5.45s\n",
      "237:\tlearn: 0.2315469\ttotal: 1.7s\tremaining: 5.43s\n",
      "238:\tlearn: 0.2315105\ttotal: 1.7s\tremaining: 5.41s\n",
      "239:\tlearn: 0.2314793\ttotal: 1.7s\tremaining: 5.39s\n",
      "240:\tlearn: 0.2313895\ttotal: 1.71s\tremaining: 5.37s\n",
      "241:\tlearn: 0.2312917\ttotal: 1.71s\tremaining: 5.35s\n",
      "242:\tlearn: 0.2311000\ttotal: 1.71s\tremaining: 5.34s\n",
      "243:\tlearn: 0.2309822\ttotal: 1.72s\tremaining: 5.32s\n",
      "244:\tlearn: 0.2309554\ttotal: 1.72s\tremaining: 5.3s\n",
      "245:\tlearn: 0.2308710\ttotal: 1.72s\tremaining: 5.28s\n",
      "246:\tlearn: 0.2307735\ttotal: 1.72s\tremaining: 5.26s\n",
      "247:\tlearn: 0.2306485\ttotal: 1.73s\tremaining: 5.24s\n",
      "248:\tlearn: 0.2305548\ttotal: 1.73s\tremaining: 5.22s\n",
      "249:\tlearn: 0.2305321\ttotal: 1.73s\tremaining: 5.2s\n",
      "250:\tlearn: 0.2304339\ttotal: 1.74s\tremaining: 5.18s\n",
      "251:\tlearn: 0.2303143\ttotal: 1.74s\tremaining: 5.16s\n",
      "252:\tlearn: 0.2301929\ttotal: 1.74s\tremaining: 5.14s\n",
      "253:\tlearn: 0.2300631\ttotal: 1.74s\tremaining: 5.12s\n",
      "254:\tlearn: 0.2299407\ttotal: 1.75s\tremaining: 5.1s\n",
      "255:\tlearn: 0.2299100\ttotal: 1.75s\tremaining: 5.08s\n",
      "256:\tlearn: 0.2297618\ttotal: 1.75s\tremaining: 5.06s\n",
      "257:\tlearn: 0.2297476\ttotal: 1.75s\tremaining: 5.04s\n",
      "258:\tlearn: 0.2297199\ttotal: 1.76s\tremaining: 5.03s\n",
      "259:\tlearn: 0.2296105\ttotal: 1.76s\tremaining: 5.01s\n",
      "260:\tlearn: 0.2295211\ttotal: 1.76s\tremaining: 4.99s\n",
      "261:\tlearn: 0.2295056\ttotal: 1.76s\tremaining: 4.97s\n",
      "262:\tlearn: 0.2293932\ttotal: 1.77s\tremaining: 4.95s\n",
      "263:\tlearn: 0.2292927\ttotal: 1.77s\tremaining: 4.94s\n",
      "264:\tlearn: 0.2291928\ttotal: 1.77s\tremaining: 4.92s\n",
      "265:\tlearn: 0.2290272\ttotal: 1.78s\tremaining: 4.91s\n",
      "266:\tlearn: 0.2288712\ttotal: 1.78s\tremaining: 4.89s\n",
      "267:\tlearn: 0.2287673\ttotal: 1.78s\tremaining: 4.87s\n",
      "268:\tlearn: 0.2286208\ttotal: 1.79s\tremaining: 4.86s\n",
      "269:\tlearn: 0.2285167\ttotal: 1.79s\tremaining: 4.84s\n",
      "270:\tlearn: 0.2283785\ttotal: 1.79s\tremaining: 4.82s\n",
      "271:\tlearn: 0.2282806\ttotal: 1.79s\tremaining: 4.81s\n",
      "272:\tlearn: 0.2281608\ttotal: 1.8s\tremaining: 4.79s\n",
      "273:\tlearn: 0.2280454\ttotal: 1.8s\tremaining: 4.77s\n",
      "274:\tlearn: 0.2279505\ttotal: 1.8s\tremaining: 4.75s\n",
      "275:\tlearn: 0.2278556\ttotal: 1.8s\tremaining: 4.74s\n",
      "276:\tlearn: 0.2277660\ttotal: 1.81s\tremaining: 4.72s\n",
      "277:\tlearn: 0.2276354\ttotal: 1.81s\tremaining: 4.71s\n",
      "278:\tlearn: 0.2275129\ttotal: 1.81s\tremaining: 4.69s\n",
      "279:\tlearn: 0.2273977\ttotal: 1.82s\tremaining: 4.67s\n",
      "280:\tlearn: 0.2273110\ttotal: 1.82s\tremaining: 4.66s\n",
      "281:\tlearn: 0.2271915\ttotal: 1.82s\tremaining: 4.64s\n",
      "282:\tlearn: 0.2270802\ttotal: 1.82s\tremaining: 4.62s\n",
      "283:\tlearn: 0.2269599\ttotal: 1.83s\tremaining: 4.61s\n",
      "284:\tlearn: 0.2268468\ttotal: 1.83s\tremaining: 4.59s\n",
      "285:\tlearn: 0.2268223\ttotal: 1.83s\tremaining: 4.57s\n",
      "286:\tlearn: 0.2267445\ttotal: 1.83s\tremaining: 4.56s\n",
      "287:\tlearn: 0.2266382\ttotal: 1.84s\tremaining: 4.55s\n",
      "288:\tlearn: 0.2265514\ttotal: 1.84s\tremaining: 4.53s\n",
      "289:\tlearn: 0.2264504\ttotal: 1.84s\tremaining: 4.51s\n",
      "290:\tlearn: 0.2264269\ttotal: 1.85s\tremaining: 4.5s\n",
      "291:\tlearn: 0.2262911\ttotal: 1.85s\tremaining: 4.49s\n",
      "292:\tlearn: 0.2262208\ttotal: 1.86s\tremaining: 4.48s\n",
      "293:\tlearn: 0.2260878\ttotal: 1.87s\tremaining: 4.49s\n",
      "294:\tlearn: 0.2259964\ttotal: 1.88s\tremaining: 4.48s\n",
      "295:\tlearn: 0.2258841\ttotal: 1.88s\tremaining: 4.47s\n",
      "296:\tlearn: 0.2258176\ttotal: 1.88s\tremaining: 4.46s\n",
      "297:\tlearn: 0.2257443\ttotal: 1.88s\tremaining: 4.44s\n",
      "298:\tlearn: 0.2257215\ttotal: 1.89s\tremaining: 4.42s\n",
      "299:\tlearn: 0.2255840\ttotal: 1.89s\tremaining: 4.41s\n",
      "300:\tlearn: 0.2255620\ttotal: 1.89s\tremaining: 4.39s\n",
      "301:\tlearn: 0.2254740\ttotal: 1.89s\tremaining: 4.38s\n",
      "302:\tlearn: 0.2253692\ttotal: 1.9s\tremaining: 4.36s\n",
      "303:\tlearn: 0.2253479\ttotal: 1.9s\tremaining: 4.35s\n",
      "304:\tlearn: 0.2252713\ttotal: 1.9s\tremaining: 4.33s\n",
      "305:\tlearn: 0.2251842\ttotal: 1.9s\tremaining: 4.32s\n",
      "306:\tlearn: 0.2251073\ttotal: 1.91s\tremaining: 4.3s\n",
      "307:\tlearn: 0.2250930\ttotal: 1.91s\tremaining: 4.29s\n",
      "308:\tlearn: 0.2250133\ttotal: 1.92s\tremaining: 4.29s\n",
      "309:\tlearn: 0.2249928\ttotal: 1.92s\tremaining: 4.28s\n",
      "310:\tlearn: 0.2249119\ttotal: 1.93s\tremaining: 4.27s\n",
      "311:\tlearn: 0.2248277\ttotal: 1.93s\tremaining: 4.26s\n",
      "312:\tlearn: 0.2247113\ttotal: 1.94s\tremaining: 4.26s\n",
      "313:\tlearn: 0.2245989\ttotal: 1.95s\tremaining: 4.25s\n",
      "314:\tlearn: 0.2244576\ttotal: 1.95s\tremaining: 4.25s\n",
      "315:\tlearn: 0.2244378\ttotal: 1.96s\tremaining: 4.23s\n",
      "316:\tlearn: 0.2243184\ttotal: 1.96s\tremaining: 4.22s\n",
      "317:\tlearn: 0.2242054\ttotal: 1.97s\tremaining: 4.22s\n",
      "318:\tlearn: 0.2241248\ttotal: 1.97s\tremaining: 4.21s\n",
      "319:\tlearn: 0.2240458\ttotal: 2s\tremaining: 4.25s\n",
      "320:\tlearn: 0.2239612\ttotal: 2s\tremaining: 4.24s\n",
      "321:\tlearn: 0.2238131\ttotal: 2.01s\tremaining: 4.23s\n",
      "322:\tlearn: 0.2236515\ttotal: 2.02s\tremaining: 4.24s\n",
      "323:\tlearn: 0.2235308\ttotal: 2.03s\tremaining: 4.23s\n",
      "324:\tlearn: 0.2235115\ttotal: 2.03s\tremaining: 4.22s\n",
      "325:\tlearn: 0.2234356\ttotal: 2.04s\tremaining: 4.21s\n",
      "326:\tlearn: 0.2233132\ttotal: 2.04s\tremaining: 4.2s\n",
      "327:\tlearn: 0.2231604\ttotal: 2.05s\tremaining: 4.19s\n",
      "328:\tlearn: 0.2230829\ttotal: 2.06s\tremaining: 4.2s\n",
      "329:\tlearn: 0.2230033\ttotal: 2.07s\tremaining: 4.21s\n",
      "330:\tlearn: 0.2229350\ttotal: 2.08s\tremaining: 4.2s\n",
      "331:\tlearn: 0.2229212\ttotal: 2.08s\tremaining: 4.19s\n",
      "332:\tlearn: 0.2228353\ttotal: 2.09s\tremaining: 4.19s\n",
      "333:\tlearn: 0.2228210\ttotal: 2.1s\tremaining: 4.19s\n",
      "334:\tlearn: 0.2227468\ttotal: 2.13s\tremaining: 4.24s\n",
      "335:\tlearn: 0.2226643\ttotal: 2.14s\tremaining: 4.23s\n",
      "336:\tlearn: 0.2225687\ttotal: 2.14s\tremaining: 4.22s\n",
      "337:\tlearn: 0.2224444\ttotal: 2.15s\tremaining: 4.21s\n",
      "338:\tlearn: 0.2223494\ttotal: 2.16s\tremaining: 4.21s\n",
      "339:\tlearn: 0.2222784\ttotal: 2.16s\tremaining: 4.2s\n",
      "340:\tlearn: 0.2222018\ttotal: 2.17s\tremaining: 4.19s\n",
      "341:\tlearn: 0.2221778\ttotal: 2.18s\tremaining: 4.19s\n",
      "342:\tlearn: 0.2220624\ttotal: 2.18s\tremaining: 4.18s\n",
      "343:\tlearn: 0.2220485\ttotal: 2.19s\tremaining: 4.18s\n",
      "344:\tlearn: 0.2219745\ttotal: 2.19s\tremaining: 4.17s\n",
      "345:\tlearn: 0.2218552\ttotal: 2.2s\tremaining: 4.15s\n",
      "346:\tlearn: 0.2217378\ttotal: 2.2s\tremaining: 4.14s\n",
      "347:\tlearn: 0.2216684\ttotal: 2.21s\tremaining: 4.14s\n",
      "348:\tlearn: 0.2215590\ttotal: 2.21s\tremaining: 4.13s\n",
      "349:\tlearn: 0.2214508\ttotal: 2.22s\tremaining: 4.12s\n",
      "350:\tlearn: 0.2213219\ttotal: 2.22s\tremaining: 4.11s\n",
      "351:\tlearn: 0.2212177\ttotal: 2.23s\tremaining: 4.11s\n",
      "352:\tlearn: 0.2210431\ttotal: 2.24s\tremaining: 4.1s\n",
      "353:\tlearn: 0.2209619\ttotal: 2.24s\tremaining: 4.09s\n",
      "354:\tlearn: 0.2208859\ttotal: 2.25s\tremaining: 4.08s\n",
      "355:\tlearn: 0.2207901\ttotal: 2.25s\tremaining: 4.07s\n",
      "356:\tlearn: 0.2206952\ttotal: 2.25s\tremaining: 4.06s\n",
      "357:\tlearn: 0.2206209\ttotal: 2.26s\tremaining: 4.05s\n",
      "358:\tlearn: 0.2206105\ttotal: 2.26s\tremaining: 4.04s\n",
      "359:\tlearn: 0.2204939\ttotal: 2.27s\tremaining: 4.03s\n",
      "360:\tlearn: 0.2204235\ttotal: 2.27s\tremaining: 4.02s\n",
      "361:\tlearn: 0.2203312\ttotal: 2.27s\tremaining: 4s\n",
      "362:\tlearn: 0.2203178\ttotal: 2.27s\tremaining: 3.99s\n",
      "363:\tlearn: 0.2202956\ttotal: 2.28s\tremaining: 3.98s\n",
      "364:\tlearn: 0.2201984\ttotal: 2.28s\tremaining: 3.97s\n",
      "365:\tlearn: 0.2201037\ttotal: 2.29s\tremaining: 3.96s\n",
      "366:\tlearn: 0.2199828\ttotal: 2.29s\tremaining: 3.95s\n",
      "367:\tlearn: 0.2199591\ttotal: 2.29s\tremaining: 3.94s\n",
      "368:\tlearn: 0.2199489\ttotal: 2.29s\tremaining: 3.92s\n",
      "369:\tlearn: 0.2198573\ttotal: 2.3s\tremaining: 3.91s\n",
      "370:\tlearn: 0.2197845\ttotal: 2.3s\tremaining: 3.9s\n",
      "371:\tlearn: 0.2197216\ttotal: 2.3s\tremaining: 3.89s\n",
      "372:\tlearn: 0.2197086\ttotal: 2.31s\tremaining: 3.88s\n",
      "373:\tlearn: 0.2196954\ttotal: 2.31s\tremaining: 3.87s\n",
      "374:\tlearn: 0.2196372\ttotal: 2.31s\tremaining: 3.85s\n",
      "375:\tlearn: 0.2196245\ttotal: 2.32s\tremaining: 3.84s\n",
      "376:\tlearn: 0.2195376\ttotal: 2.33s\tremaining: 3.85s\n",
      "377:\tlearn: 0.2194362\ttotal: 2.33s\tremaining: 3.83s\n",
      "378:\tlearn: 0.2193596\ttotal: 2.33s\tremaining: 3.83s\n",
      "379:\tlearn: 0.2192938\ttotal: 2.34s\tremaining: 3.81s\n",
      "380:\tlearn: 0.2191841\ttotal: 2.34s\tremaining: 3.8s\n",
      "381:\tlearn: 0.2191714\ttotal: 2.34s\tremaining: 3.79s\n",
      "382:\tlearn: 0.2191590\ttotal: 2.35s\tremaining: 3.78s\n",
      "383:\tlearn: 0.2191036\ttotal: 2.35s\tremaining: 3.77s\n",
      "384:\tlearn: 0.2190915\ttotal: 2.35s\tremaining: 3.75s\n",
      "385:\tlearn: 0.2189867\ttotal: 2.35s\tremaining: 3.74s\n",
      "386:\tlearn: 0.2189749\ttotal: 2.36s\tremaining: 3.73s\n",
      "387:\tlearn: 0.2189127\ttotal: 2.36s\tremaining: 3.72s\n",
      "388:\tlearn: 0.2187795\ttotal: 2.36s\tremaining: 3.71s\n",
      "389:\tlearn: 0.2187667\ttotal: 2.36s\tremaining: 3.7s\n",
      "390:\tlearn: 0.2187063\ttotal: 2.37s\tremaining: 3.69s\n",
      "391:\tlearn: 0.2185990\ttotal: 2.37s\tremaining: 3.67s\n",
      "392:\tlearn: 0.2184598\ttotal: 2.37s\tremaining: 3.66s\n",
      "393:\tlearn: 0.2183341\ttotal: 2.37s\tremaining: 3.65s\n",
      "394:\tlearn: 0.2181929\ttotal: 2.38s\tremaining: 3.64s\n",
      "395:\tlearn: 0.2181190\ttotal: 2.38s\tremaining: 3.63s\n",
      "396:\tlearn: 0.2180447\ttotal: 2.38s\tremaining: 3.62s\n",
      "397:\tlearn: 0.2179471\ttotal: 2.38s\tremaining: 3.61s\n",
      "398:\tlearn: 0.2179347\ttotal: 2.39s\tremaining: 3.6s\n",
      "399:\tlearn: 0.2179224\ttotal: 2.39s\tremaining: 3.59s\n",
      "400:\tlearn: 0.2178514\ttotal: 2.39s\tremaining: 3.58s\n",
      "401:\tlearn: 0.2177488\ttotal: 2.4s\tremaining: 3.56s\n",
      "402:\tlearn: 0.2176181\ttotal: 2.4s\tremaining: 3.55s\n",
      "403:\tlearn: 0.2175275\ttotal: 2.4s\tremaining: 3.54s\n",
      "404:\tlearn: 0.2174624\ttotal: 2.4s\tremaining: 3.53s\n",
      "405:\tlearn: 0.2173838\ttotal: 2.41s\tremaining: 3.53s\n",
      "406:\tlearn: 0.2172862\ttotal: 2.41s\tremaining: 3.52s\n",
      "407:\tlearn: 0.2172255\ttotal: 2.42s\tremaining: 3.51s\n",
      "408:\tlearn: 0.2171941\ttotal: 2.42s\tremaining: 3.5s\n",
      "409:\tlearn: 0.2171645\ttotal: 2.42s\tremaining: 3.49s\n",
      "410:\tlearn: 0.2170613\ttotal: 2.43s\tremaining: 3.48s\n",
      "411:\tlearn: 0.2169853\ttotal: 2.43s\tremaining: 3.47s\n",
      "412:\tlearn: 0.2169740\ttotal: 2.44s\tremaining: 3.46s\n",
      "413:\tlearn: 0.2168831\ttotal: 2.44s\tremaining: 3.45s\n",
      "414:\tlearn: 0.2167860\ttotal: 2.44s\tremaining: 3.44s\n",
      "415:\tlearn: 0.2166621\ttotal: 2.44s\tremaining: 3.43s\n",
      "416:\tlearn: 0.2165412\ttotal: 2.45s\tremaining: 3.42s\n",
      "417:\tlearn: 0.2165134\ttotal: 2.45s\tremaining: 3.41s\n",
      "418:\tlearn: 0.2164495\ttotal: 2.46s\tremaining: 3.41s\n",
      "419:\tlearn: 0.2163083\ttotal: 2.46s\tremaining: 3.4s\n",
      "420:\tlearn: 0.2162819\ttotal: 2.46s\tremaining: 3.39s\n",
      "421:\tlearn: 0.2161647\ttotal: 2.47s\tremaining: 3.38s\n",
      "422:\tlearn: 0.2161020\ttotal: 2.48s\tremaining: 3.38s\n",
      "423:\tlearn: 0.2160458\ttotal: 2.48s\tremaining: 3.37s\n",
      "424:\tlearn: 0.2159893\ttotal: 2.48s\tremaining: 3.35s\n",
      "425:\tlearn: 0.2159305\ttotal: 2.48s\tremaining: 3.35s\n",
      "426:\tlearn: 0.2158602\ttotal: 2.49s\tremaining: 3.34s\n",
      "427:\tlearn: 0.2157972\ttotal: 2.5s\tremaining: 3.34s\n",
      "428:\tlearn: 0.2157855\ttotal: 2.5s\tremaining: 3.33s\n",
      "429:\tlearn: 0.2157017\ttotal: 2.5s\tremaining: 3.32s\n",
      "430:\tlearn: 0.2156809\ttotal: 2.51s\tremaining: 3.31s\n",
      "431:\tlearn: 0.2155735\ttotal: 2.51s\tremaining: 3.31s\n",
      "432:\tlearn: 0.2155196\ttotal: 2.52s\tremaining: 3.3s\n",
      "433:\tlearn: 0.2154450\ttotal: 2.52s\tremaining: 3.29s\n",
      "434:\tlearn: 0.2153762\ttotal: 2.52s\tremaining: 3.28s\n",
      "435:\tlearn: 0.2153651\ttotal: 2.53s\tremaining: 3.27s\n",
      "436:\tlearn: 0.2153210\ttotal: 2.53s\tremaining: 3.26s\n",
      "437:\tlearn: 0.2152439\ttotal: 2.54s\tremaining: 3.25s\n",
      "438:\tlearn: 0.2151162\ttotal: 2.54s\tremaining: 3.25s\n",
      "439:\tlearn: 0.2150656\ttotal: 2.54s\tremaining: 3.24s\n",
      "440:\tlearn: 0.2149594\ttotal: 2.55s\tremaining: 3.23s\n",
      "441:\tlearn: 0.2149369\ttotal: 2.55s\tremaining: 3.23s\n",
      "442:\tlearn: 0.2149262\ttotal: 2.56s\tremaining: 3.23s\n",
      "443:\tlearn: 0.2149011\ttotal: 2.57s\tremaining: 3.21s\n",
      "444:\tlearn: 0.2148551\ttotal: 2.57s\tremaining: 3.21s\n",
      "445:\tlearn: 0.2147848\ttotal: 2.58s\tremaining: 3.2s\n",
      "446:\tlearn: 0.2147573\ttotal: 2.58s\tremaining: 3.19s\n",
      "447:\tlearn: 0.2146518\ttotal: 2.58s\tremaining: 3.18s\n",
      "448:\tlearn: 0.2146259\ttotal: 2.59s\tremaining: 3.17s\n",
      "449:\tlearn: 0.2146067\ttotal: 2.59s\tremaining: 3.17s\n",
      "450:\tlearn: 0.2145650\ttotal: 2.6s\tremaining: 3.16s\n",
      "451:\tlearn: 0.2145550\ttotal: 2.61s\tremaining: 3.16s\n",
      "452:\tlearn: 0.2145153\ttotal: 2.61s\tremaining: 3.15s\n",
      "453:\tlearn: 0.2144990\ttotal: 2.62s\tremaining: 3.15s\n",
      "454:\tlearn: 0.2144333\ttotal: 2.62s\tremaining: 3.14s\n",
      "455:\tlearn: 0.2143154\ttotal: 2.63s\tremaining: 3.13s\n",
      "456:\tlearn: 0.2142936\ttotal: 2.63s\tremaining: 3.13s\n",
      "457:\tlearn: 0.2142087\ttotal: 2.63s\tremaining: 3.12s\n",
      "458:\tlearn: 0.2141987\ttotal: 2.64s\tremaining: 3.11s\n",
      "459:\tlearn: 0.2141877\ttotal: 2.64s\tremaining: 3.1s\n",
      "460:\tlearn: 0.2141624\ttotal: 2.65s\tremaining: 3.09s\n",
      "461:\tlearn: 0.2141428\ttotal: 2.65s\tremaining: 3.08s\n",
      "462:\tlearn: 0.2141332\ttotal: 2.65s\tremaining: 3.07s\n",
      "463:\tlearn: 0.2140011\ttotal: 2.65s\tremaining: 3.07s\n",
      "464:\tlearn: 0.2139917\ttotal: 2.66s\tremaining: 3.06s\n",
      "465:\tlearn: 0.2139824\ttotal: 2.66s\tremaining: 3.05s\n",
      "466:\tlearn: 0.2139734\ttotal: 2.67s\tremaining: 3.04s\n",
      "467:\tlearn: 0.2139642\ttotal: 2.67s\tremaining: 3.04s\n",
      "468:\tlearn: 0.2139086\ttotal: 2.67s\tremaining: 3.03s\n",
      "469:\tlearn: 0.2138082\ttotal: 2.67s\tremaining: 3.02s\n",
      "470:\tlearn: 0.2137216\ttotal: 2.68s\tremaining: 3.01s\n",
      "471:\tlearn: 0.2137127\ttotal: 2.68s\tremaining: 3s\n",
      "472:\tlearn: 0.2136939\ttotal: 2.68s\tremaining: 2.99s\n",
      "473:\tlearn: 0.2136119\ttotal: 2.69s\tremaining: 2.98s\n",
      "474:\tlearn: 0.2135129\ttotal: 2.69s\tremaining: 2.97s\n",
      "475:\tlearn: 0.2135044\ttotal: 2.69s\tremaining: 2.96s\n",
      "476:\tlearn: 0.2134339\ttotal: 2.69s\tremaining: 2.95s\n",
      "477:\tlearn: 0.2133450\ttotal: 2.7s\tremaining: 2.94s\n",
      "478:\tlearn: 0.2133366\ttotal: 2.7s\tremaining: 2.94s\n",
      "479:\tlearn: 0.2132361\ttotal: 2.7s\tremaining: 2.93s\n",
      "480:\tlearn: 0.2132273\ttotal: 2.7s\tremaining: 2.92s\n",
      "481:\tlearn: 0.2131622\ttotal: 2.71s\tremaining: 2.91s\n",
      "482:\tlearn: 0.2130468\ttotal: 2.71s\tremaining: 2.9s\n",
      "483:\tlearn: 0.2129541\ttotal: 2.71s\tremaining: 2.89s\n",
      "484:\tlearn: 0.2128597\ttotal: 2.71s\tremaining: 2.88s\n",
      "485:\tlearn: 0.2127782\ttotal: 2.72s\tremaining: 2.87s\n",
      "486:\tlearn: 0.2126600\ttotal: 2.72s\tremaining: 2.87s\n",
      "487:\tlearn: 0.2125850\ttotal: 2.72s\tremaining: 2.86s\n",
      "488:\tlearn: 0.2125101\ttotal: 2.73s\tremaining: 2.85s\n",
      "489:\tlearn: 0.2124908\ttotal: 2.73s\tremaining: 2.84s\n",
      "490:\tlearn: 0.2123691\ttotal: 2.73s\tremaining: 2.83s\n",
      "491:\tlearn: 0.2123605\ttotal: 2.73s\tremaining: 2.82s\n",
      "492:\tlearn: 0.2123511\ttotal: 2.74s\tremaining: 2.81s\n",
      "493:\tlearn: 0.2122610\ttotal: 2.74s\tremaining: 2.81s\n",
      "494:\tlearn: 0.2121715\ttotal: 2.74s\tremaining: 2.8s\n",
      "495:\tlearn: 0.2121415\ttotal: 2.74s\tremaining: 2.79s\n",
      "496:\tlearn: 0.2121269\ttotal: 2.75s\tremaining: 2.78s\n",
      "497:\tlearn: 0.2120288\ttotal: 2.75s\tremaining: 2.77s\n",
      "498:\tlearn: 0.2119420\ttotal: 2.75s\tremaining: 2.76s\n",
      "499:\tlearn: 0.2119341\ttotal: 2.76s\tremaining: 2.76s\n",
      "500:\tlearn: 0.2118519\ttotal: 2.76s\tremaining: 2.75s\n",
      "501:\tlearn: 0.2118442\ttotal: 2.77s\tremaining: 2.74s\n",
      "502:\tlearn: 0.2117512\ttotal: 2.77s\tremaining: 2.74s\n",
      "503:\tlearn: 0.2117421\ttotal: 2.77s\tremaining: 2.73s\n",
      "504:\tlearn: 0.2116451\ttotal: 2.78s\tremaining: 2.72s\n",
      "505:\tlearn: 0.2116160\ttotal: 2.78s\tremaining: 2.71s\n",
      "506:\tlearn: 0.2115246\ttotal: 2.78s\tremaining: 2.71s\n",
      "507:\tlearn: 0.2114333\ttotal: 2.78s\tremaining: 2.7s\n",
      "508:\tlearn: 0.2114105\ttotal: 2.79s\tremaining: 2.69s\n",
      "509:\tlearn: 0.2114013\ttotal: 2.79s\tremaining: 2.68s\n",
      "510:\tlearn: 0.2113230\ttotal: 2.79s\tremaining: 2.67s\n",
      "511:\tlearn: 0.2112353\ttotal: 2.8s\tremaining: 2.67s\n",
      "512:\tlearn: 0.2111564\ttotal: 2.8s\tremaining: 2.66s\n",
      "513:\tlearn: 0.2110548\ttotal: 2.8s\tremaining: 2.65s\n",
      "514:\tlearn: 0.2110459\ttotal: 2.81s\tremaining: 2.64s\n",
      "515:\tlearn: 0.2109915\ttotal: 2.81s\tremaining: 2.63s\n",
      "516:\tlearn: 0.2109741\ttotal: 2.81s\tremaining: 2.63s\n",
      "517:\tlearn: 0.2108869\ttotal: 2.81s\tremaining: 2.62s\n",
      "518:\tlearn: 0.2107951\ttotal: 2.82s\tremaining: 2.61s\n",
      "519:\tlearn: 0.2107486\ttotal: 2.82s\tremaining: 2.6s\n",
      "520:\tlearn: 0.2106757\ttotal: 2.82s\tremaining: 2.6s\n",
      "521:\tlearn: 0.2106316\ttotal: 2.83s\tremaining: 2.59s\n",
      "522:\tlearn: 0.2105626\ttotal: 2.83s\tremaining: 2.58s\n",
      "523:\tlearn: 0.2105538\ttotal: 2.83s\tremaining: 2.57s\n",
      "524:\tlearn: 0.2104712\ttotal: 2.84s\tremaining: 2.56s\n",
      "525:\tlearn: 0.2104492\ttotal: 2.84s\tremaining: 2.56s\n",
      "526:\tlearn: 0.2103420\ttotal: 2.84s\tremaining: 2.55s\n",
      "527:\tlearn: 0.2102500\ttotal: 2.85s\tremaining: 2.54s\n",
      "528:\tlearn: 0.2102318\ttotal: 2.85s\tremaining: 2.54s\n",
      "529:\tlearn: 0.2102176\ttotal: 2.85s\tremaining: 2.53s\n",
      "530:\tlearn: 0.2101229\ttotal: 2.86s\tremaining: 2.53s\n",
      "531:\tlearn: 0.2100721\ttotal: 2.87s\tremaining: 2.52s\n",
      "532:\tlearn: 0.2099854\ttotal: 2.87s\tremaining: 2.51s\n",
      "533:\tlearn: 0.2099435\ttotal: 2.87s\tremaining: 2.51s\n",
      "534:\tlearn: 0.2098939\ttotal: 2.88s\tremaining: 2.5s\n",
      "535:\tlearn: 0.2098266\ttotal: 2.88s\tremaining: 2.49s\n",
      "536:\tlearn: 0.2098070\ttotal: 2.89s\tremaining: 2.49s\n",
      "537:\tlearn: 0.2097846\ttotal: 2.89s\tremaining: 2.48s\n",
      "538:\tlearn: 0.2097564\ttotal: 2.9s\tremaining: 2.48s\n",
      "539:\tlearn: 0.2097011\ttotal: 2.9s\tremaining: 2.47s\n",
      "540:\tlearn: 0.2096812\ttotal: 2.9s\tremaining: 2.46s\n",
      "541:\tlearn: 0.2096245\ttotal: 2.9s\tremaining: 2.46s\n",
      "542:\tlearn: 0.2096028\ttotal: 2.91s\tremaining: 2.45s\n",
      "543:\tlearn: 0.2095851\ttotal: 2.91s\tremaining: 2.44s\n",
      "544:\tlearn: 0.2094489\ttotal: 2.92s\tremaining: 2.43s\n",
      "545:\tlearn: 0.2093575\ttotal: 2.92s\tremaining: 2.43s\n",
      "546:\tlearn: 0.2093301\ttotal: 2.92s\tremaining: 2.42s\n",
      "547:\tlearn: 0.2093234\ttotal: 2.93s\tremaining: 2.42s\n",
      "548:\tlearn: 0.2092537\ttotal: 2.94s\tremaining: 2.41s\n",
      "549:\tlearn: 0.2092365\ttotal: 2.94s\tremaining: 2.4s\n",
      "550:\tlearn: 0.2092159\ttotal: 2.94s\tremaining: 2.4s\n",
      "551:\tlearn: 0.2091694\ttotal: 2.95s\tremaining: 2.39s\n",
      "552:\tlearn: 0.2090844\ttotal: 2.95s\tremaining: 2.38s\n",
      "553:\tlearn: 0.2090779\ttotal: 2.95s\tremaining: 2.38s\n",
      "554:\tlearn: 0.2089989\ttotal: 2.96s\tremaining: 2.37s\n",
      "555:\tlearn: 0.2089531\ttotal: 2.96s\tremaining: 2.36s\n",
      "556:\tlearn: 0.2088520\ttotal: 2.96s\tremaining: 2.35s\n",
      "557:\tlearn: 0.2087778\ttotal: 2.96s\tremaining: 2.35s\n",
      "558:\tlearn: 0.2087073\ttotal: 2.97s\tremaining: 2.34s\n",
      "559:\tlearn: 0.2086593\ttotal: 2.97s\tremaining: 2.33s\n",
      "560:\tlearn: 0.2086113\ttotal: 2.97s\tremaining: 2.33s\n",
      "561:\tlearn: 0.2085442\ttotal: 2.98s\tremaining: 2.32s\n",
      "562:\tlearn: 0.2084378\ttotal: 2.98s\tremaining: 2.31s\n",
      "563:\tlearn: 0.2084198\ttotal: 2.98s\tremaining: 2.31s\n",
      "564:\tlearn: 0.2083560\ttotal: 2.98s\tremaining: 2.3s\n",
      "565:\tlearn: 0.2083473\ttotal: 2.99s\tremaining: 2.29s\n",
      "566:\tlearn: 0.2083012\ttotal: 2.99s\tremaining: 2.28s\n",
      "567:\tlearn: 0.2081908\ttotal: 2.99s\tremaining: 2.28s\n",
      "568:\tlearn: 0.2081647\ttotal: 3s\tremaining: 2.27s\n",
      "569:\tlearn: 0.2080947\ttotal: 3s\tremaining: 2.26s\n",
      "570:\tlearn: 0.2080440\ttotal: 3s\tremaining: 2.26s\n",
      "571:\tlearn: 0.2079958\ttotal: 3.01s\tremaining: 2.25s\n",
      "572:\tlearn: 0.2079705\ttotal: 3.01s\tremaining: 2.24s\n",
      "573:\tlearn: 0.2078753\ttotal: 3.02s\tremaining: 2.24s\n",
      "574:\tlearn: 0.2078305\ttotal: 3.02s\tremaining: 2.23s\n",
      "575:\tlearn: 0.2078221\ttotal: 3.03s\tremaining: 2.23s\n",
      "576:\tlearn: 0.2077613\ttotal: 3.03s\tremaining: 2.22s\n",
      "577:\tlearn: 0.2076861\ttotal: 3.04s\tremaining: 2.22s\n",
      "578:\tlearn: 0.2076442\ttotal: 3.04s\tremaining: 2.21s\n",
      "579:\tlearn: 0.2075861\ttotal: 3.04s\tremaining: 2.2s\n",
      "580:\tlearn: 0.2075410\ttotal: 3.04s\tremaining: 2.19s\n",
      "581:\tlearn: 0.2075166\ttotal: 3.05s\tremaining: 2.19s\n",
      "582:\tlearn: 0.2074585\ttotal: 3.05s\tremaining: 2.18s\n",
      "583:\tlearn: 0.2074347\ttotal: 3.05s\tremaining: 2.17s\n",
      "584:\tlearn: 0.2074264\ttotal: 3.06s\tremaining: 2.17s\n",
      "585:\tlearn: 0.2073635\ttotal: 3.06s\tremaining: 2.16s\n",
      "586:\tlearn: 0.2073554\ttotal: 3.06s\tremaining: 2.16s\n",
      "587:\tlearn: 0.2072689\ttotal: 3.08s\tremaining: 2.15s\n",
      "588:\tlearn: 0.2072610\ttotal: 3.08s\tremaining: 2.15s\n",
      "589:\tlearn: 0.2071725\ttotal: 3.08s\tremaining: 2.14s\n",
      "590:\tlearn: 0.2071116\ttotal: 3.08s\tremaining: 2.13s\n",
      "591:\tlearn: 0.2070309\ttotal: 3.09s\tremaining: 2.13s\n",
      "592:\tlearn: 0.2070099\ttotal: 3.09s\tremaining: 2.12s\n",
      "593:\tlearn: 0.2069516\ttotal: 3.09s\tremaining: 2.11s\n",
      "594:\tlearn: 0.2068545\ttotal: 3.1s\tremaining: 2.11s\n",
      "595:\tlearn: 0.2068468\ttotal: 3.1s\tremaining: 2.1s\n",
      "596:\tlearn: 0.2068012\ttotal: 3.1s\tremaining: 2.1s\n",
      "597:\tlearn: 0.2067417\ttotal: 3.11s\tremaining: 2.09s\n",
      "598:\tlearn: 0.2067298\ttotal: 3.11s\tremaining: 2.08s\n",
      "599:\tlearn: 0.2066480\ttotal: 3.11s\tremaining: 2.08s\n",
      "600:\tlearn: 0.2065834\ttotal: 3.12s\tremaining: 2.07s\n",
      "601:\tlearn: 0.2065072\ttotal: 3.12s\tremaining: 2.06s\n",
      "602:\tlearn: 0.2064522\ttotal: 3.12s\tremaining: 2.06s\n",
      "603:\tlearn: 0.2064409\ttotal: 3.13s\tremaining: 2.05s\n",
      "604:\tlearn: 0.2063499\ttotal: 3.13s\tremaining: 2.04s\n",
      "605:\tlearn: 0.2063261\ttotal: 3.13s\tremaining: 2.04s\n",
      "606:\tlearn: 0.2062638\ttotal: 3.13s\tremaining: 2.03s\n",
      "607:\tlearn: 0.2062224\ttotal: 3.13s\tremaining: 2.02s\n",
      "608:\tlearn: 0.2061492\ttotal: 3.14s\tremaining: 2.01s\n",
      "609:\tlearn: 0.2061099\ttotal: 3.14s\tremaining: 2.01s\n",
      "610:\tlearn: 0.2060334\ttotal: 3.14s\tremaining: 2s\n",
      "611:\tlearn: 0.2060100\ttotal: 3.15s\tremaining: 2s\n",
      "612:\tlearn: 0.2059403\ttotal: 3.15s\tremaining: 1.99s\n",
      "613:\tlearn: 0.2058186\ttotal: 3.15s\tremaining: 1.98s\n",
      "614:\tlearn: 0.2057830\ttotal: 3.15s\tremaining: 1.98s\n",
      "615:\tlearn: 0.2057022\ttotal: 3.16s\tremaining: 1.97s\n",
      "616:\tlearn: 0.2056272\ttotal: 3.16s\tremaining: 1.96s\n",
      "617:\tlearn: 0.2056107\ttotal: 3.16s\tremaining: 1.96s\n",
      "618:\tlearn: 0.2056032\ttotal: 3.17s\tremaining: 1.95s\n",
      "619:\tlearn: 0.2055958\ttotal: 3.17s\tremaining: 1.94s\n",
      "620:\tlearn: 0.2055886\ttotal: 3.17s\tremaining: 1.94s\n",
      "621:\tlearn: 0.2055815\ttotal: 3.17s\tremaining: 1.93s\n",
      "622:\tlearn: 0.2054885\ttotal: 3.18s\tremaining: 1.92s\n",
      "623:\tlearn: 0.2054000\ttotal: 3.18s\tremaining: 1.92s\n",
      "624:\tlearn: 0.2053803\ttotal: 3.18s\tremaining: 1.91s\n",
      "625:\tlearn: 0.2053734\ttotal: 3.19s\tremaining: 1.9s\n",
      "626:\tlearn: 0.2053426\ttotal: 3.19s\tremaining: 1.9s\n",
      "627:\tlearn: 0.2052817\ttotal: 3.19s\tremaining: 1.89s\n",
      "628:\tlearn: 0.2052750\ttotal: 3.2s\tremaining: 1.89s\n",
      "629:\tlearn: 0.2052640\ttotal: 3.2s\tremaining: 1.88s\n",
      "630:\tlearn: 0.2051918\ttotal: 3.2s\tremaining: 1.87s\n",
      "631:\tlearn: 0.2051124\ttotal: 3.21s\tremaining: 1.87s\n",
      "632:\tlearn: 0.2049826\ttotal: 3.21s\tremaining: 1.86s\n",
      "633:\tlearn: 0.2049339\ttotal: 3.21s\tremaining: 1.85s\n",
      "634:\tlearn: 0.2049117\ttotal: 3.21s\tremaining: 1.85s\n",
      "635:\tlearn: 0.2048956\ttotal: 3.22s\tremaining: 1.84s\n",
      "636:\tlearn: 0.2048094\ttotal: 3.22s\tremaining: 1.83s\n",
      "637:\tlearn: 0.2047698\ttotal: 3.22s\tremaining: 1.83s\n",
      "638:\tlearn: 0.2047632\ttotal: 3.23s\tremaining: 1.82s\n",
      "639:\tlearn: 0.2047475\ttotal: 3.23s\tremaining: 1.81s\n",
      "640:\tlearn: 0.2047096\ttotal: 3.23s\tremaining: 1.81s\n",
      "641:\tlearn: 0.2046661\ttotal: 3.24s\tremaining: 1.8s\n",
      "642:\tlearn: 0.2045593\ttotal: 3.24s\tremaining: 1.8s\n",
      "643:\tlearn: 0.2045529\ttotal: 3.25s\tremaining: 1.79s\n",
      "644:\tlearn: 0.2045466\ttotal: 3.26s\tremaining: 1.79s\n",
      "645:\tlearn: 0.2044670\ttotal: 3.26s\tremaining: 1.79s\n",
      "646:\tlearn: 0.2044305\ttotal: 3.26s\tremaining: 1.78s\n",
      "647:\tlearn: 0.2043899\ttotal: 3.27s\tremaining: 1.77s\n",
      "648:\tlearn: 0.2043838\ttotal: 3.27s\tremaining: 1.77s\n",
      "649:\tlearn: 0.2043778\ttotal: 3.27s\tremaining: 1.76s\n",
      "650:\tlearn: 0.2042786\ttotal: 3.27s\tremaining: 1.75s\n",
      "651:\tlearn: 0.2042372\ttotal: 3.28s\tremaining: 1.75s\n",
      "652:\tlearn: 0.2041627\ttotal: 3.28s\tremaining: 1.74s\n",
      "653:\tlearn: 0.2041035\ttotal: 3.29s\tremaining: 1.74s\n",
      "654:\tlearn: 0.2040976\ttotal: 3.29s\tremaining: 1.73s\n",
      "655:\tlearn: 0.2040282\ttotal: 3.29s\tremaining: 1.73s\n",
      "656:\tlearn: 0.2039630\ttotal: 3.29s\tremaining: 1.72s\n",
      "657:\tlearn: 0.2038927\ttotal: 3.3s\tremaining: 1.71s\n",
      "658:\tlearn: 0.2038221\ttotal: 3.3s\tremaining: 1.71s\n",
      "659:\tlearn: 0.2037459\ttotal: 3.3s\tremaining: 1.7s\n",
      "660:\tlearn: 0.2037382\ttotal: 3.31s\tremaining: 1.7s\n",
      "661:\tlearn: 0.2036687\ttotal: 3.34s\tremaining: 1.71s\n",
      "662:\tlearn: 0.2035942\ttotal: 3.36s\tremaining: 1.71s\n",
      "663:\tlearn: 0.2035868\ttotal: 3.41s\tremaining: 1.72s\n",
      "664:\tlearn: 0.2035518\ttotal: 3.41s\tremaining: 1.72s\n",
      "665:\tlearn: 0.2034805\ttotal: 3.42s\tremaining: 1.71s\n",
      "666:\tlearn: 0.2034590\ttotal: 3.42s\tremaining: 1.71s\n",
      "667:\tlearn: 0.2033923\ttotal: 3.42s\tremaining: 1.7s\n",
      "668:\tlearn: 0.2033368\ttotal: 3.43s\tremaining: 1.7s\n",
      "669:\tlearn: 0.2032676\ttotal: 3.44s\tremaining: 1.69s\n",
      "670:\tlearn: 0.2031749\ttotal: 3.46s\tremaining: 1.7s\n",
      "671:\tlearn: 0.2031692\ttotal: 3.47s\tremaining: 1.69s\n",
      "672:\tlearn: 0.2031329\ttotal: 3.47s\tremaining: 1.69s\n",
      "673:\tlearn: 0.2031139\ttotal: 3.48s\tremaining: 1.68s\n",
      "674:\tlearn: 0.2030754\ttotal: 3.48s\tremaining: 1.68s\n",
      "675:\tlearn: 0.2030071\ttotal: 3.49s\tremaining: 1.67s\n",
      "676:\tlearn: 0.2030015\ttotal: 3.49s\tremaining: 1.67s\n",
      "677:\tlearn: 0.2028977\ttotal: 3.49s\tremaining: 1.66s\n",
      "678:\tlearn: 0.2028299\ttotal: 3.5s\tremaining: 1.65s\n",
      "679:\tlearn: 0.2027645\ttotal: 3.5s\tremaining: 1.65s\n",
      "680:\tlearn: 0.2027234\ttotal: 3.5s\tremaining: 1.64s\n",
      "681:\tlearn: 0.2026887\ttotal: 3.5s\tremaining: 1.63s\n",
      "682:\tlearn: 0.2026046\ttotal: 3.51s\tremaining: 1.63s\n",
      "683:\tlearn: 0.2025728\ttotal: 3.52s\tremaining: 1.62s\n",
      "684:\tlearn: 0.2025573\ttotal: 3.52s\tremaining: 1.62s\n",
      "685:\tlearn: 0.2025381\ttotal: 3.52s\tremaining: 1.61s\n",
      "686:\tlearn: 0.2024678\ttotal: 3.53s\tremaining: 1.61s\n",
      "687:\tlearn: 0.2024623\ttotal: 3.53s\tremaining: 1.6s\n",
      "688:\tlearn: 0.2023988\ttotal: 3.53s\tremaining: 1.59s\n",
      "689:\tlearn: 0.2023489\ttotal: 3.54s\tremaining: 1.59s\n",
      "690:\tlearn: 0.2023309\ttotal: 3.54s\tremaining: 1.58s\n",
      "691:\tlearn: 0.2022978\ttotal: 3.55s\tremaining: 1.58s\n",
      "692:\tlearn: 0.2022059\ttotal: 3.55s\tremaining: 1.57s\n",
      "693:\tlearn: 0.2021789\ttotal: 3.55s\tremaining: 1.57s\n",
      "694:\tlearn: 0.2021007\ttotal: 3.56s\tremaining: 1.56s\n",
      "695:\tlearn: 0.2020954\ttotal: 3.56s\tremaining: 1.55s\n",
      "696:\tlearn: 0.2020901\ttotal: 3.56s\tremaining: 1.55s\n",
      "697:\tlearn: 0.2020161\ttotal: 3.56s\tremaining: 1.54s\n",
      "698:\tlearn: 0.2020010\ttotal: 3.57s\tremaining: 1.54s\n",
      "699:\tlearn: 0.2019319\ttotal: 3.57s\tremaining: 1.53s\n",
      "700:\tlearn: 0.2018450\ttotal: 3.57s\tremaining: 1.52s\n",
      "701:\tlearn: 0.2017879\ttotal: 3.58s\tremaining: 1.52s\n",
      "702:\tlearn: 0.2017060\ttotal: 3.58s\tremaining: 1.51s\n",
      "703:\tlearn: 0.2016892\ttotal: 3.58s\tremaining: 1.51s\n",
      "704:\tlearn: 0.2016721\ttotal: 3.59s\tremaining: 1.5s\n",
      "705:\tlearn: 0.2016089\ttotal: 3.59s\tremaining: 1.49s\n",
      "706:\tlearn: 0.2015902\ttotal: 3.59s\tremaining: 1.49s\n",
      "707:\tlearn: 0.2015309\ttotal: 3.59s\tremaining: 1.48s\n",
      "708:\tlearn: 0.2014713\ttotal: 3.6s\tremaining: 1.48s\n",
      "709:\tlearn: 0.2014149\ttotal: 3.6s\tremaining: 1.47s\n",
      "710:\tlearn: 0.2014001\ttotal: 3.6s\tremaining: 1.46s\n",
      "711:\tlearn: 0.2013224\ttotal: 3.6s\tremaining: 1.46s\n",
      "712:\tlearn: 0.2013061\ttotal: 3.61s\tremaining: 1.45s\n",
      "713:\tlearn: 0.2012767\ttotal: 3.61s\tremaining: 1.45s\n",
      "714:\tlearn: 0.2011971\ttotal: 3.62s\tremaining: 1.44s\n",
      "715:\tlearn: 0.2011827\ttotal: 3.62s\tremaining: 1.44s\n",
      "716:\tlearn: 0.2011208\ttotal: 3.62s\tremaining: 1.43s\n",
      "717:\tlearn: 0.2010596\ttotal: 3.63s\tremaining: 1.43s\n",
      "718:\tlearn: 0.2009861\ttotal: 3.64s\tremaining: 1.42s\n",
      "719:\tlearn: 0.2009419\ttotal: 3.64s\tremaining: 1.42s\n",
      "720:\tlearn: 0.2009368\ttotal: 3.64s\tremaining: 1.41s\n",
      "721:\tlearn: 0.2008751\ttotal: 3.65s\tremaining: 1.4s\n",
      "722:\tlearn: 0.2008610\ttotal: 3.65s\tremaining: 1.4s\n",
      "723:\tlearn: 0.2008148\ttotal: 3.65s\tremaining: 1.39s\n",
      "724:\tlearn: 0.2008097\ttotal: 3.65s\tremaining: 1.39s\n",
      "725:\tlearn: 0.2007747\ttotal: 3.66s\tremaining: 1.38s\n",
      "726:\tlearn: 0.2007411\ttotal: 3.66s\tremaining: 1.38s\n",
      "727:\tlearn: 0.2006872\ttotal: 3.67s\tremaining: 1.37s\n",
      "728:\tlearn: 0.2006527\ttotal: 3.67s\tremaining: 1.36s\n",
      "729:\tlearn: 0.2006080\ttotal: 3.67s\tremaining: 1.36s\n",
      "730:\tlearn: 0.2005683\ttotal: 3.68s\tremaining: 1.35s\n",
      "731:\tlearn: 0.2005095\ttotal: 3.69s\tremaining: 1.35s\n",
      "732:\tlearn: 0.2004204\ttotal: 3.69s\tremaining: 1.34s\n",
      "733:\tlearn: 0.2003470\ttotal: 3.7s\tremaining: 1.34s\n",
      "734:\tlearn: 0.2003168\ttotal: 3.71s\tremaining: 1.34s\n",
      "735:\tlearn: 0.2002725\ttotal: 3.71s\tremaining: 1.33s\n",
      "736:\tlearn: 0.2002259\ttotal: 3.72s\tremaining: 1.33s\n",
      "737:\tlearn: 0.2001759\ttotal: 3.72s\tremaining: 1.32s\n",
      "738:\tlearn: 0.2000861\ttotal: 3.73s\tremaining: 1.32s\n",
      "739:\tlearn: 0.2000418\ttotal: 3.74s\tremaining: 1.31s\n",
      "740:\tlearn: 0.1999752\ttotal: 3.74s\tremaining: 1.31s\n",
      "741:\tlearn: 0.1998877\ttotal: 3.74s\tremaining: 1.3s\n",
      "742:\tlearn: 0.1998428\ttotal: 3.75s\tremaining: 1.29s\n",
      "743:\tlearn: 0.1998106\ttotal: 3.75s\tremaining: 1.29s\n",
      "744:\tlearn: 0.1997371\ttotal: 3.75s\tremaining: 1.28s\n",
      "745:\tlearn: 0.1997051\ttotal: 3.76s\tremaining: 1.28s\n",
      "746:\tlearn: 0.1996399\ttotal: 3.76s\tremaining: 1.27s\n",
      "747:\tlearn: 0.1996316\ttotal: 3.77s\tremaining: 1.27s\n",
      "748:\tlearn: 0.1996001\ttotal: 3.77s\tremaining: 1.26s\n",
      "749:\tlearn: 0.1995694\ttotal: 3.77s\tremaining: 1.26s\n",
      "750:\tlearn: 0.1995254\ttotal: 3.78s\tremaining: 1.25s\n",
      "751:\tlearn: 0.1994967\ttotal: 3.78s\tremaining: 1.25s\n",
      "752:\tlearn: 0.1994144\ttotal: 3.78s\tremaining: 1.24s\n",
      "753:\tlearn: 0.1993485\ttotal: 3.78s\tremaining: 1.23s\n",
      "754:\tlearn: 0.1992651\ttotal: 3.79s\tremaining: 1.23s\n",
      "755:\tlearn: 0.1992512\ttotal: 3.79s\tremaining: 1.22s\n",
      "756:\tlearn: 0.1991956\ttotal: 3.79s\tremaining: 1.22s\n",
      "757:\tlearn: 0.1991142\ttotal: 3.8s\tremaining: 1.21s\n",
      "758:\tlearn: 0.1990497\ttotal: 3.8s\tremaining: 1.21s\n",
      "759:\tlearn: 0.1990425\ttotal: 3.8s\tremaining: 1.2s\n",
      "760:\tlearn: 0.1989821\ttotal: 3.81s\tremaining: 1.2s\n",
      "761:\tlearn: 0.1989087\ttotal: 3.81s\tremaining: 1.19s\n",
      "762:\tlearn: 0.1988609\ttotal: 3.81s\tremaining: 1.18s\n",
      "763:\tlearn: 0.1988560\ttotal: 3.81s\tremaining: 1.18s\n",
      "764:\tlearn: 0.1988134\ttotal: 3.82s\tremaining: 1.17s\n",
      "765:\tlearn: 0.1987826\ttotal: 3.82s\tremaining: 1.17s\n",
      "766:\tlearn: 0.1987144\ttotal: 3.83s\tremaining: 1.16s\n",
      "767:\tlearn: 0.1987074\ttotal: 3.83s\tremaining: 1.16s\n",
      "768:\tlearn: 0.1986397\ttotal: 3.83s\tremaining: 1.15s\n",
      "769:\tlearn: 0.1985662\ttotal: 3.84s\tremaining: 1.15s\n",
      "770:\tlearn: 0.1985131\ttotal: 3.84s\tremaining: 1.14s\n",
      "771:\tlearn: 0.1984855\ttotal: 3.84s\tremaining: 1.13s\n",
      "772:\tlearn: 0.1984171\ttotal: 3.84s\tremaining: 1.13s\n",
      "773:\tlearn: 0.1983525\ttotal: 3.85s\tremaining: 1.12s\n",
      "774:\tlearn: 0.1983390\ttotal: 3.85s\tremaining: 1.12s\n",
      "775:\tlearn: 0.1982876\ttotal: 3.85s\tremaining: 1.11s\n",
      "776:\tlearn: 0.1982812\ttotal: 3.86s\tremaining: 1.11s\n",
      "777:\tlearn: 0.1981711\ttotal: 3.86s\tremaining: 1.1s\n",
      "778:\tlearn: 0.1981426\ttotal: 3.86s\tremaining: 1.1s\n",
      "779:\tlearn: 0.1981377\ttotal: 3.87s\tremaining: 1.09s\n",
      "780:\tlearn: 0.1980970\ttotal: 3.87s\tremaining: 1.08s\n",
      "781:\tlearn: 0.1980696\ttotal: 3.87s\tremaining: 1.08s\n",
      "782:\tlearn: 0.1980606\ttotal: 3.87s\tremaining: 1.07s\n",
      "783:\tlearn: 0.1979629\ttotal: 3.88s\tremaining: 1.07s\n",
      "784:\tlearn: 0.1979126\ttotal: 3.88s\tremaining: 1.06s\n",
      "785:\tlearn: 0.1978894\ttotal: 3.88s\tremaining: 1.06s\n",
      "786:\tlearn: 0.1978223\ttotal: 3.89s\tremaining: 1.05s\n",
      "787:\tlearn: 0.1977736\ttotal: 3.89s\tremaining: 1.05s\n",
      "788:\tlearn: 0.1976995\ttotal: 3.89s\tremaining: 1.04s\n",
      "789:\tlearn: 0.1976460\ttotal: 3.89s\tremaining: 1.03s\n",
      "790:\tlearn: 0.1975622\ttotal: 3.9s\tremaining: 1.03s\n",
      "791:\tlearn: 0.1974856\ttotal: 3.9s\tremaining: 1.02s\n",
      "792:\tlearn: 0.1974201\ttotal: 3.9s\tremaining: 1.02s\n",
      "793:\tlearn: 0.1973935\ttotal: 3.9s\tremaining: 1.01s\n",
      "794:\tlearn: 0.1973423\ttotal: 3.91s\tremaining: 1.01s\n",
      "795:\tlearn: 0.1972864\ttotal: 3.91s\tremaining: 1s\n",
      "796:\tlearn: 0.1971953\ttotal: 3.91s\tremaining: 997ms\n",
      "797:\tlearn: 0.1971328\ttotal: 3.92s\tremaining: 991ms\n",
      "798:\tlearn: 0.1970695\ttotal: 3.92s\tremaining: 986ms\n",
      "799:\tlearn: 0.1970647\ttotal: 3.92s\tremaining: 980ms\n",
      "800:\tlearn: 0.1970601\ttotal: 3.92s\tremaining: 975ms\n",
      "801:\tlearn: 0.1970327\ttotal: 3.92s\tremaining: 969ms\n",
      "802:\tlearn: 0.1970282\ttotal: 3.93s\tremaining: 964ms\n",
      "803:\tlearn: 0.1970238\ttotal: 3.93s\tremaining: 958ms\n",
      "804:\tlearn: 0.1969622\ttotal: 3.93s\tremaining: 953ms\n",
      "805:\tlearn: 0.1969347\ttotal: 3.94s\tremaining: 947ms\n",
      "806:\tlearn: 0.1969093\ttotal: 3.94s\tremaining: 942ms\n",
      "807:\tlearn: 0.1968440\ttotal: 3.94s\tremaining: 937ms\n",
      "808:\tlearn: 0.1968083\ttotal: 3.94s\tremaining: 931ms\n",
      "809:\tlearn: 0.1967394\ttotal: 3.95s\tremaining: 926ms\n",
      "810:\tlearn: 0.1966780\ttotal: 3.95s\tremaining: 920ms\n",
      "811:\tlearn: 0.1966528\ttotal: 3.95s\tremaining: 915ms\n",
      "812:\tlearn: 0.1966397\ttotal: 3.95s\tremaining: 910ms\n",
      "813:\tlearn: 0.1965721\ttotal: 3.96s\tremaining: 904ms\n",
      "814:\tlearn: 0.1964790\ttotal: 3.96s\tremaining: 899ms\n",
      "815:\tlearn: 0.1964123\ttotal: 3.96s\tremaining: 894ms\n",
      "816:\tlearn: 0.1963995\ttotal: 3.97s\tremaining: 888ms\n",
      "817:\tlearn: 0.1963653\ttotal: 3.97s\tremaining: 883ms\n",
      "818:\tlearn: 0.1963013\ttotal: 3.97s\tremaining: 878ms\n",
      "819:\tlearn: 0.1962131\ttotal: 3.97s\tremaining: 872ms\n",
      "820:\tlearn: 0.1961579\ttotal: 3.98s\tremaining: 869ms\n",
      "821:\tlearn: 0.1961010\ttotal: 4s\tremaining: 866ms\n",
      "822:\tlearn: 0.1960293\ttotal: 4s\tremaining: 860ms\n",
      "823:\tlearn: 0.1959798\ttotal: 4.01s\tremaining: 856ms\n",
      "824:\tlearn: 0.1959570\ttotal: 4.01s\tremaining: 851ms\n",
      "825:\tlearn: 0.1959185\ttotal: 4.01s\tremaining: 845ms\n",
      "826:\tlearn: 0.1958965\ttotal: 4.02s\tremaining: 840ms\n",
      "827:\tlearn: 0.1958840\ttotal: 4.02s\tremaining: 835ms\n",
      "828:\tlearn: 0.1958679\ttotal: 4.02s\tremaining: 830ms\n",
      "829:\tlearn: 0.1958464\ttotal: 4.03s\tremaining: 824ms\n",
      "830:\tlearn: 0.1957972\ttotal: 4.03s\tremaining: 819ms\n",
      "831:\tlearn: 0.1957312\ttotal: 4.03s\tremaining: 814ms\n",
      "832:\tlearn: 0.1957269\ttotal: 4.03s\tremaining: 809ms\n",
      "833:\tlearn: 0.1956721\ttotal: 4.04s\tremaining: 804ms\n",
      "834:\tlearn: 0.1956243\ttotal: 4.04s\tremaining: 799ms\n",
      "835:\tlearn: 0.1956129\ttotal: 4.04s\tremaining: 794ms\n",
      "836:\tlearn: 0.1955758\ttotal: 4.05s\tremaining: 788ms\n",
      "837:\tlearn: 0.1955287\ttotal: 4.05s\tremaining: 783ms\n",
      "838:\tlearn: 0.1954711\ttotal: 4.06s\tremaining: 779ms\n",
      "839:\tlearn: 0.1954258\ttotal: 4.06s\tremaining: 773ms\n",
      "840:\tlearn: 0.1953424\ttotal: 4.06s\tremaining: 768ms\n",
      "841:\tlearn: 0.1952775\ttotal: 4.07s\tremaining: 763ms\n",
      "842:\tlearn: 0.1952733\ttotal: 4.07s\tremaining: 758ms\n",
      "843:\tlearn: 0.1952691\ttotal: 4.07s\tremaining: 753ms\n",
      "844:\tlearn: 0.1952628\ttotal: 4.08s\tremaining: 748ms\n",
      "845:\tlearn: 0.1952587\ttotal: 4.08s\tremaining: 744ms\n",
      "846:\tlearn: 0.1952548\ttotal: 4.09s\tremaining: 739ms\n",
      "847:\tlearn: 0.1952042\ttotal: 4.1s\tremaining: 734ms\n",
      "848:\tlearn: 0.1951797\ttotal: 4.1s\tremaining: 730ms\n",
      "849:\tlearn: 0.1951445\ttotal: 4.11s\tremaining: 725ms\n",
      "850:\tlearn: 0.1951197\ttotal: 4.11s\tremaining: 720ms\n",
      "851:\tlearn: 0.1950593\ttotal: 4.12s\tremaining: 715ms\n",
      "852:\tlearn: 0.1950555\ttotal: 4.12s\tremaining: 710ms\n",
      "853:\tlearn: 0.1950517\ttotal: 4.12s\tremaining: 705ms\n",
      "854:\tlearn: 0.1950481\ttotal: 4.13s\tremaining: 700ms\n",
      "855:\tlearn: 0.1950244\ttotal: 4.15s\tremaining: 699ms\n",
      "856:\tlearn: 0.1949693\ttotal: 4.16s\tremaining: 694ms\n",
      "857:\tlearn: 0.1949139\ttotal: 4.16s\tremaining: 689ms\n",
      "858:\tlearn: 0.1949006\ttotal: 4.17s\tremaining: 684ms\n",
      "859:\tlearn: 0.1948751\ttotal: 4.17s\tremaining: 680ms\n",
      "860:\tlearn: 0.1947904\ttotal: 4.18s\tremaining: 675ms\n",
      "861:\tlearn: 0.1947383\ttotal: 4.18s\tremaining: 670ms\n",
      "862:\tlearn: 0.1946776\ttotal: 4.19s\tremaining: 665ms\n",
      "863:\tlearn: 0.1946260\ttotal: 4.19s\tremaining: 660ms\n",
      "864:\tlearn: 0.1945707\ttotal: 4.2s\tremaining: 656ms\n",
      "865:\tlearn: 0.1945109\ttotal: 4.2s\tremaining: 651ms\n",
      "866:\tlearn: 0.1944982\ttotal: 4.21s\tremaining: 646ms\n",
      "867:\tlearn: 0.1944485\ttotal: 4.22s\tremaining: 641ms\n",
      "868:\tlearn: 0.1944091\ttotal: 4.22s\tremaining: 637ms\n",
      "869:\tlearn: 0.1943640\ttotal: 4.23s\tremaining: 632ms\n",
      "870:\tlearn: 0.1943573\ttotal: 4.23s\tremaining: 626ms\n",
      "871:\tlearn: 0.1943538\ttotal: 4.23s\tremaining: 621ms\n",
      "872:\tlearn: 0.1942965\ttotal: 4.24s\tremaining: 616ms\n",
      "873:\tlearn: 0.1942611\ttotal: 4.24s\tremaining: 612ms\n",
      "874:\tlearn: 0.1942270\ttotal: 4.25s\tremaining: 607ms\n",
      "875:\tlearn: 0.1942149\ttotal: 4.25s\tremaining: 602ms\n",
      "876:\tlearn: 0.1942101\ttotal: 4.26s\tremaining: 597ms\n",
      "877:\tlearn: 0.1941444\ttotal: 4.26s\tremaining: 592ms\n",
      "878:\tlearn: 0.1941199\ttotal: 4.26s\tremaining: 587ms\n",
      "879:\tlearn: 0.1940869\ttotal: 4.26s\tremaining: 582ms\n",
      "880:\tlearn: 0.1940246\ttotal: 4.27s\tremaining: 576ms\n",
      "881:\tlearn: 0.1939928\ttotal: 4.27s\tremaining: 571ms\n",
      "882:\tlearn: 0.1939622\ttotal: 4.27s\tremaining: 566ms\n",
      "883:\tlearn: 0.1939388\ttotal: 4.28s\tremaining: 561ms\n",
      "884:\tlearn: 0.1939272\ttotal: 4.28s\tremaining: 556ms\n",
      "885:\tlearn: 0.1938977\ttotal: 4.28s\tremaining: 551ms\n",
      "886:\tlearn: 0.1938520\ttotal: 4.28s\tremaining: 546ms\n",
      "887:\tlearn: 0.1937976\ttotal: 4.29s\tremaining: 541ms\n",
      "888:\tlearn: 0.1937368\ttotal: 4.29s\tremaining: 535ms\n",
      "889:\tlearn: 0.1937083\ttotal: 4.29s\tremaining: 530ms\n",
      "890:\tlearn: 0.1936563\ttotal: 4.29s\tremaining: 525ms\n",
      "891:\tlearn: 0.1936062\ttotal: 4.29s\tremaining: 520ms\n",
      "892:\tlearn: 0.1935626\ttotal: 4.3s\tremaining: 515ms\n",
      "893:\tlearn: 0.1935115\ttotal: 4.3s\tremaining: 510ms\n",
      "894:\tlearn: 0.1934839\ttotal: 4.31s\tremaining: 505ms\n",
      "895:\tlearn: 0.1934270\ttotal: 4.31s\tremaining: 500ms\n",
      "896:\tlearn: 0.1934160\ttotal: 4.31s\tremaining: 495ms\n",
      "897:\tlearn: 0.1933894\ttotal: 4.31s\tremaining: 490ms\n",
      "898:\tlearn: 0.1933636\ttotal: 4.32s\tremaining: 485ms\n",
      "899:\tlearn: 0.1933023\ttotal: 4.32s\tremaining: 480ms\n",
      "900:\tlearn: 0.1932880\ttotal: 4.32s\tremaining: 475ms\n",
      "901:\tlearn: 0.1932408\ttotal: 4.33s\tremaining: 470ms\n",
      "902:\tlearn: 0.1931880\ttotal: 4.33s\tremaining: 465ms\n",
      "903:\tlearn: 0.1931631\ttotal: 4.33s\tremaining: 460ms\n",
      "904:\tlearn: 0.1931164\ttotal: 4.33s\tremaining: 455ms\n",
      "905:\tlearn: 0.1930773\ttotal: 4.34s\tremaining: 450ms\n",
      "906:\tlearn: 0.1930280\ttotal: 4.34s\tremaining: 445ms\n",
      "907:\tlearn: 0.1930245\ttotal: 4.34s\tremaining: 440ms\n",
      "908:\tlearn: 0.1930004\ttotal: 4.34s\tremaining: 435ms\n",
      "909:\tlearn: 0.1929547\ttotal: 4.35s\tremaining: 430ms\n",
      "910:\tlearn: 0.1929311\ttotal: 4.35s\tremaining: 425ms\n",
      "911:\tlearn: 0.1928993\ttotal: 4.35s\tremaining: 420ms\n",
      "912:\tlearn: 0.1928532\ttotal: 4.35s\tremaining: 415ms\n",
      "913:\tlearn: 0.1928099\ttotal: 4.36s\tremaining: 410ms\n",
      "914:\tlearn: 0.1927874\ttotal: 4.36s\tremaining: 405ms\n",
      "915:\tlearn: 0.1927646\ttotal: 4.36s\tremaining: 400ms\n",
      "916:\tlearn: 0.1927222\ttotal: 4.37s\tremaining: 395ms\n",
      "917:\tlearn: 0.1927003\ttotal: 4.37s\tremaining: 390ms\n",
      "918:\tlearn: 0.1926887\ttotal: 4.37s\tremaining: 385ms\n",
      "919:\tlearn: 0.1926665\ttotal: 4.38s\tremaining: 380ms\n",
      "920:\tlearn: 0.1926263\ttotal: 4.38s\tremaining: 376ms\n",
      "921:\tlearn: 0.1925788\ttotal: 4.38s\tremaining: 371ms\n",
      "922:\tlearn: 0.1925404\ttotal: 4.39s\tremaining: 366ms\n",
      "923:\tlearn: 0.1924982\ttotal: 4.39s\tremaining: 361ms\n",
      "924:\tlearn: 0.1924869\ttotal: 4.39s\tremaining: 356ms\n",
      "925:\tlearn: 0.1924597\ttotal: 4.39s\tremaining: 351ms\n",
      "926:\tlearn: 0.1924384\ttotal: 4.4s\tremaining: 346ms\n",
      "927:\tlearn: 0.1924168\ttotal: 4.4s\tremaining: 341ms\n",
      "928:\tlearn: 0.1923959\ttotal: 4.4s\tremaining: 337ms\n",
      "929:\tlearn: 0.1923925\ttotal: 4.41s\tremaining: 332ms\n",
      "930:\tlearn: 0.1923716\ttotal: 4.41s\tremaining: 327ms\n",
      "931:\tlearn: 0.1923513\ttotal: 4.41s\tremaining: 322ms\n",
      "932:\tlearn: 0.1922901\ttotal: 4.41s\tremaining: 317ms\n",
      "933:\tlearn: 0.1922790\ttotal: 4.42s\tremaining: 312ms\n",
      "934:\tlearn: 0.1922436\ttotal: 4.42s\tremaining: 307ms\n",
      "935:\tlearn: 0.1922029\ttotal: 4.42s\tremaining: 302ms\n",
      "936:\tlearn: 0.1921995\ttotal: 4.43s\tremaining: 298ms\n",
      "937:\tlearn: 0.1921962\ttotal: 4.43s\tremaining: 293ms\n",
      "938:\tlearn: 0.1921854\ttotal: 4.43s\tremaining: 288ms\n",
      "939:\tlearn: 0.1921822\ttotal: 4.43s\tremaining: 283ms\n",
      "940:\tlearn: 0.1921485\ttotal: 4.43s\tremaining: 278ms\n",
      "941:\tlearn: 0.1920842\ttotal: 4.44s\tremaining: 273ms\n",
      "942:\tlearn: 0.1920578\ttotal: 4.44s\tremaining: 268ms\n",
      "943:\tlearn: 0.1920536\ttotal: 4.44s\tremaining: 264ms\n",
      "944:\tlearn: 0.1920284\ttotal: 4.45s\tremaining: 259ms\n",
      "945:\tlearn: 0.1920144\ttotal: 4.45s\tremaining: 254ms\n",
      "946:\tlearn: 0.1919821\ttotal: 4.45s\tremaining: 249ms\n",
      "947:\tlearn: 0.1919623\ttotal: 4.45s\tremaining: 244ms\n",
      "948:\tlearn: 0.1918946\ttotal: 4.46s\tremaining: 240ms\n",
      "949:\tlearn: 0.1918743\ttotal: 4.46s\tremaining: 235ms\n",
      "950:\tlearn: 0.1918309\ttotal: 4.46s\tremaining: 230ms\n",
      "951:\tlearn: 0.1917935\ttotal: 4.46s\tremaining: 225ms\n",
      "952:\tlearn: 0.1917518\ttotal: 4.47s\tremaining: 220ms\n",
      "953:\tlearn: 0.1917321\ttotal: 4.47s\tremaining: 216ms\n",
      "954:\tlearn: 0.1917077\ttotal: 4.47s\tremaining: 211ms\n",
      "955:\tlearn: 0.1916702\ttotal: 4.47s\tremaining: 206ms\n",
      "956:\tlearn: 0.1916509\ttotal: 4.48s\tremaining: 201ms\n",
      "957:\tlearn: 0.1916403\ttotal: 4.48s\tremaining: 196ms\n",
      "958:\tlearn: 0.1916300\ttotal: 4.48s\tremaining: 192ms\n",
      "959:\tlearn: 0.1915903\ttotal: 4.49s\tremaining: 187ms\n",
      "960:\tlearn: 0.1915580\ttotal: 4.49s\tremaining: 182ms\n",
      "961:\tlearn: 0.1915392\ttotal: 4.49s\tremaining: 178ms\n",
      "962:\tlearn: 0.1915154\ttotal: 4.5s\tremaining: 173ms\n",
      "963:\tlearn: 0.1914783\ttotal: 4.5s\tremaining: 168ms\n",
      "964:\tlearn: 0.1914249\ttotal: 4.5s\tremaining: 163ms\n",
      "965:\tlearn: 0.1913998\ttotal: 4.51s\tremaining: 159ms\n",
      "966:\tlearn: 0.1913599\ttotal: 4.51s\tremaining: 154ms\n",
      "967:\tlearn: 0.1913128\ttotal: 4.51s\tremaining: 149ms\n",
      "968:\tlearn: 0.1912682\ttotal: 4.51s\tremaining: 144ms\n",
      "969:\tlearn: 0.1912405\ttotal: 4.52s\tremaining: 140ms\n",
      "970:\tlearn: 0.1911978\ttotal: 4.52s\tremaining: 135ms\n",
      "971:\tlearn: 0.1911736\ttotal: 4.52s\tremaining: 130ms\n",
      "972:\tlearn: 0.1911704\ttotal: 4.52s\tremaining: 126ms\n",
      "973:\tlearn: 0.1911603\ttotal: 4.53s\tremaining: 121ms\n",
      "974:\tlearn: 0.1911573\ttotal: 4.53s\tremaining: 116ms\n",
      "975:\tlearn: 0.1911341\ttotal: 4.53s\tremaining: 111ms\n",
      "976:\tlearn: 0.1911293\ttotal: 4.53s\tremaining: 107ms\n",
      "977:\tlearn: 0.1911263\ttotal: 4.54s\tremaining: 102ms\n",
      "978:\tlearn: 0.1911233\ttotal: 4.54s\tremaining: 97.4ms\n",
      "979:\tlearn: 0.1910768\ttotal: 4.54s\tremaining: 92.7ms\n",
      "980:\tlearn: 0.1910389\ttotal: 4.54s\tremaining: 88ms\n",
      "981:\tlearn: 0.1910206\ttotal: 4.55s\tremaining: 83.4ms\n",
      "982:\tlearn: 0.1910118\ttotal: 4.55s\tremaining: 78.7ms\n",
      "983:\tlearn: 0.1910089\ttotal: 4.55s\tremaining: 74ms\n",
      "984:\tlearn: 0.1910049\ttotal: 4.56s\tremaining: 69.4ms\n",
      "985:\tlearn: 0.1909667\ttotal: 4.56s\tremaining: 64.7ms\n",
      "986:\tlearn: 0.1909305\ttotal: 4.56s\tremaining: 60.1ms\n",
      "987:\tlearn: 0.1908673\ttotal: 4.56s\tremaining: 55.4ms\n",
      "988:\tlearn: 0.1908188\ttotal: 4.57s\tremaining: 50.8ms\n",
      "989:\tlearn: 0.1907524\ttotal: 4.57s\tremaining: 46.2ms\n",
      "990:\tlearn: 0.1907137\ttotal: 4.57s\tremaining: 41.5ms\n",
      "991:\tlearn: 0.1906978\ttotal: 4.57s\tremaining: 36.9ms\n",
      "992:\tlearn: 0.1906880\ttotal: 4.58s\tremaining: 32.3ms\n",
      "993:\tlearn: 0.1906701\ttotal: 4.58s\tremaining: 27.6ms\n",
      "994:\tlearn: 0.1906221\ttotal: 4.58s\tremaining: 23ms\n",
      "995:\tlearn: 0.1905737\ttotal: 4.58s\tremaining: 18.4ms\n",
      "996:\tlearn: 0.1905203\ttotal: 4.59s\tremaining: 13.8ms\n",
      "997:\tlearn: 0.1904762\ttotal: 4.59s\tremaining: 9.2ms\n",
      "998:\tlearn: 0.1904588\ttotal: 4.59s\tremaining: 4.6ms\n",
      "999:\tlearn: 0.1904221\ttotal: 4.6s\tremaining: 0us\n",
      "[ 9.17502570e-03  8.35665024e-01  1.04703271e+00 ... -7.60837496e-04\n",
      "  9.62002784e-01  8.79474637e-02]\n"
     ]
    }
   ],
   "source": [
    "cb = CatBoostRegressor()\n",
    "cb.fit(X_test,y_test)\n",
    "\n",
    "predict3 = cb.predict(X_test)\n",
    "print(predict3)"
   ]
  },
  {
   "cell_type": "code",
   "execution_count": 28,
   "metadata": {},
   "outputs": [
    {
     "name": "stdout",
     "output_type": "stream",
     "text": [
      "Mean squared error: 0.04\n",
      "Variance score: 0.85\n"
     ]
    }
   ],
   "source": [
    "# Predicting the Test set results\n",
    "y_pred3 = cb.predict(X_test)\n",
    "# The mean squared error\n",
    "print(\"Mean squared error: %.2f\" % np.mean((cb.predict(X_test) - y_test) ** 2))\n",
    "\n",
    "# Explained variance score: 1 is perfect prediction\n",
    "print('Variance score: %.2f' % cb.score(X_test, y_test))"
   ]
  },
  {
   "cell_type": "markdown",
   "metadata": {},
   "source": [
    "### LGBMRegressor"
   ]
  },
  {
   "cell_type": "code",
   "execution_count": 29,
   "metadata": {},
   "outputs": [],
   "source": [
    "from sklearn.metrics import mean_absolute_error"
   ]
  },
  {
   "cell_type": "code",
   "execution_count": 30,
   "metadata": {},
   "outputs": [
    {
     "name": "stdout",
     "output_type": "stream",
     "text": [
      "[-0.00150921  0.77461113  1.00318201 ...  0.02481482  1.02289986\n",
      "  0.16415303]\n"
     ]
    }
   ],
   "source": [
    "lgb = LGBMRegressor()\n",
    "lgb.fit(X_test,y_test)\n",
    "\n",
    "predict4 = lgb.predict(X_test)\n",
    "print(predict4)"
   ]
  },
  {
   "cell_type": "code",
   "execution_count": 31,
   "metadata": {},
   "outputs": [
    {
     "name": "stdout",
     "output_type": "stream",
     "text": [
      "Mean squared error: 0.04\n",
      "Variance score: 0.83\n"
     ]
    }
   ],
   "source": [
    "# Predicting the Test set results\n",
    "y_pred4 = lgb.predict(X_test)\n",
    "# The mean squared error\n",
    "print(\"Mean squared error: %.2f\" % np.mean((lgb.predict(X_test) - y_test) ** 2))\n",
    "\n",
    "# Explained variance score: 1 is perfect prediction\n",
    "print('Variance score: %.2f' % lgb.score(X_test, y_test))"
   ]
  },
  {
   "cell_type": "markdown",
   "metadata": {},
   "source": [
    "#### Accuracy comparision for various models."
   ]
  },
  {
   "cell_type": "code",
   "execution_count": 32,
   "metadata": {},
   "outputs": [
    {
     "name": "stdout",
     "output_type": "stream",
     "text": [
      "[0.08673607323061573, 0.125, 0.008047844940017097, 0.03626058692597433, 0.04136709890627473]\n"
     ]
    }
   ],
   "source": [
    "models = [lr, dt, xgb, cb, lgb]\n",
    "accuracy_scores = []\n",
    "for model in models:\n",
    "    y_pred = model.predict(X_test)\n",
    "    r2 = np.mean((model.predict(X_test) - y_test) ** 2)\n",
    "    accuracy_scores.append(r2)\n",
    "    \n",
    "print(accuracy_scores)"
   ]
  },
  {
   "cell_type": "code",
   "execution_count": 33,
   "metadata": {},
   "outputs": [
    {
     "data": {
      "image/png": "[encoded data removed]",
      "text/plain": [
       "<Figure size 432x288 with 1 Axes>"
      ]
     },
     "metadata": {
      "needs_background": "light"
     },
     "output_type": "display_data"
    }
   ],
   "source": [
    "plt.bar(['LR', 'DT', 'XGB', 'CB', 'LGB'],accuracy_scores)\n",
    "plt.ylim(0.00,1.01)\n",
    "plt.title('Mean Square Error comparision', fontsize=15, color='r')\n",
    "plt.xlabel('Models', fontsize=18, color='g')\n",
    "plt.ylabel('Mean Square Error Score', fontsize=18, color='g')\n",
    "plt.tight_layout()\n",
    "plt.show()"
   ]
  },
  {
   "cell_type": "code",
   "execution_count": 34,
   "metadata": {},
   "outputs": [
    {
     "name": "stdout",
     "output_type": "stream",
     "text": [
      "[0.6530370481810173, 0.49997310966500863, 0.96780688896596, 0.8549498518214673, 0.8345227053737243]\n"
     ]
    }
   ],
   "source": [
    "models = [lr, dt, xgb, cb, lgb]\n",
    "variance_score = []\n",
    "for model in models:\n",
    "    y_pred = model.predict(X_test)\n",
    "    skor = model.score(X_test, y_test)\n",
    "    variance_score.append(skor)\n",
    "    \n",
    "print(variance_score)"
   ]
  },
  {
   "cell_type": "code",
   "execution_count": 35,
   "metadata": {},
   "outputs": [
    {
     "data": {
      "image/png": "[encoded data removed]",
      "text/plain": [
       "<Figure size 432x288 with 1 Axes>"
      ]
     },
     "metadata": {
      "needs_background": "light"
     },
     "output_type": "display_data"
    }
   ],
   "source": [
    "plt.bar(['lr', 'dt', 'xgb', 'cb', 'lgb'],variance_score)\n",
    "plt.ylim(0.20,1.01)\n",
    "plt.title('Variance Score Benchmark', fontsize=15, color='r')\n",
    "plt.xlabel('Models', fontsize=18, color='g')\n",
    "plt.ylabel('Variance Score', fontsize=18, color='g')\n",
    "plt.tight_layout()\n",
    "plt.show()"
   ]
  },
  {
   "cell_type": "code",
   "execution_count": null,
   "metadata": {},
   "outputs": [],
   "source": []
  }
 ],
 "metadata": {
  "kernelspec": {
   "display_name": "Python 3",
   "language": "python",
   "name": "python3"
  },
  "language_info": {
   "codemirror_mode": {
    "name": "ipython",
    "version": 3
   },
   "file_extension": ".py",
   "mimetype": "text/x-python",
   "name": "python",
   "nbconvert_exporter": "python",
   "pygments_lexer": "ipython3",
   "version": "3.7.6"
  }
 },
 "nbformat": 4,
 "nbformat_minor": 4
}
